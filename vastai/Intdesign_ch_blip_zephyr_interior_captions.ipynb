{
  "metadata": {
    "kernelspec": {
      "language": "python",
      "display_name": "Python 3",
      "name": "python3"
    },
    "language_info": {
      "name": "python",
      "version": "3.10.13",
      "mimetype": "text/x-python",
      "codemirror_mode": {
        "name": "ipython",
        "version": 3
      },
      "pygments_lexer": "ipython3",
      "nbconvert_exporter": "python",
      "file_extension": ".py"
    },
    "kaggle": {
      "accelerator": "nvidiaTeslaT4",
      "dataSources": [
        {
          "sourceId": 7765896,
          "sourceType": "datasetVersion",
          "datasetId": 4542453
        }
      ],
      "dockerImageVersionId": 30665,
      "isInternetEnabled": true,
      "language": "python",
      "sourceType": "notebook",
      "isGpuEnabled": true
    },
    "colab": {
      "provenance": []
    }
  },
  "nbformat_minor": 0,
  "nbformat": 4,
  "cells": [
    {
      "cell_type": "code",
      "source": [
        "! pip install gdown accelerate bitsandbytes datasets"
      ],
      "metadata": {
        "_uuid": "8f2839f25d086af736a60e9eeb907d3b93b6e0e5",
        "_cell_guid": "b1076dfc-b9ad-4769-8c92-a6c4dae69d19",
        "trusted": true,
        "id": "vfRS0Peh0Hgw"
      },
      "execution_count": null,
      "outputs": []
    },
    {
      "cell_type": "code",
      "source": [
        "! gdown 1m3foUPaSmj4omSEAzi4cJV_Sw1hAfKRn"
      ],
      "metadata": {
        "trusted": true,
        "id": "OqzmUFeB0Hg0"
      },
      "execution_count": null,
      "outputs": []
    },
    {
      "cell_type": "code",
      "source": [
        "! gdown 1Imqc0XrkBChJ4z31MpwGF8eoz--Oge_9\n",
        "! unzip interiorverse120.zip"
      ],
      "metadata": {
        "trusted": true,
        "id": "8AKtsfdq0Hg1"
      },
      "execution_count": null,
      "outputs": []
    },
    {
      "cell_type": "code",
      "source": [
        "! gdown 1nL1U_UirQTKfjMO-Sk90kLhWBo1LYG2N"
      ],
      "metadata": {
        "execution": {
          "iopub.status.busy": "2024-03-05T11:40:34.719815Z",
          "iopub.execute_input": "2024-03-05T11:40:34.720194Z",
          "iopub.status.idle": "2024-03-05T11:40:38.602332Z",
          "shell.execute_reply.started": "2024-03-05T11:40:34.720166Z",
          "shell.execute_reply": "2024-03-05T11:40:38.601307Z"
        },
        "trusted": true,
        "id": "bMhL3H6q0Hg1",
        "outputId": "d3404ac6-6d30-4c4e-a301-81c8d52fcad5"
      },
      "execution_count": null,
      "outputs": [
        {
          "name": "stdout",
          "text": "Downloading...\nFrom: https://drive.google.com/uc?id=1nL1U_UirQTKfjMO-Sk90kLhWBo1LYG2N\nTo: /kaggle/working/image_captions.json\n100%|██████████████████████████████████████| 24.3M/24.3M [00:00<00:00, 91.2MB/s]\n",
          "output_type": "stream"
        }
      ]
    },
    {
      "cell_type": "code",
      "source": [
        "import os\n",
        "from PIL import Image\n",
        "import json\n",
        "import torch\n",
        "from transformers import AutoProcessor, LlavaForConditionalGeneration"
      ],
      "metadata": {
        "trusted": true,
        "id": "s_nfp3bZ0Hg3"
      },
      "execution_count": null,
      "outputs": []
    },
    {
      "cell_type": "code",
      "source": [
        "model_id = \"llava-hf/llava-1.5-7b-hf\"\n",
        "model = LlavaForConditionalGeneration.from_pretrained(\n",
        "    model_id,\n",
        "    torch_dtype=torch.float16,\n",
        "    low_cpu_mem_usage=True,\n",
        "    load_in_4bit=True,\n",
        ")#.to(0)"
      ],
      "metadata": {
        "trusted": true,
        "id": "Pg5Qufwt0Hg4"
      },
      "execution_count": null,
      "outputs": []
    },
    {
      "cell_type": "code",
      "source": [
        "image_folder = \"/kaggle/working/im_exr_120_jpg\"\n",
        "batch_size = 8\n",
        "processor = AutoProcessor.from_pretrained(model_id)"
      ],
      "metadata": {
        "trusted": true,
        "id": "1Ks-l33U0Hg4"
      },
      "execution_count": null,
      "outputs": []
    },
    {
      "cell_type": "code",
      "source": [
        "def generate_captions_for_batch(image_paths):\n",
        "    batch_prompts = []\n",
        "    batch_images = []\n",
        "\n",
        "    for image_path in image_paths:\n",
        "        raw_image = Image.open(image_path)\n",
        "        batch_images.append(raw_image)\n",
        "\n",
        "        prompt = \"USER: <image>\\nWhat is happening in the image?\\nASSISTANT:\"\n",
        "        batch_prompts.append(prompt)\n",
        "\n",
        "    inputs = processor(batch_prompts, batch_images, return_tensors='pt', padding=True).to(0, torch.float16)\n",
        "\n",
        "    outputs = model.generate(**inputs, max_new_tokens=200, do_sample=False)\n",
        "\n",
        "    captions = []\n",
        "    for output in outputs:\n",
        "        decoded_output = processor.decode(output[2:], skip_special_tokens=True)\n",
        "\n",
        "        relevant_text = decoded_output.split(\"\\nASSISTANT:\")[1].strip()\n",
        "        captions.append(relevant_text)\n",
        "\n",
        "    return captions"
      ],
      "metadata": {
        "trusted": true,
        "id": "fd64OZga0Hg5"
      },
      "execution_count": null,
      "outputs": []
    },
    {
      "cell_type": "code",
      "source": [
        "image_captions = {}\n",
        "\n",
        "all_image_paths = [os.path.join(image_folder, f) for f in os.listdir(image_folder) if f.lower().endswith(('.png', '.jpg', '.jpeg'))]\n",
        "for i in range(0, len(all_image_paths), batch_size):\n",
        "    batch_paths = all_image_paths[i:i+batch_size]\n",
        "    batch_captions = generate_captions_for_batch(batch_paths)\n",
        "\n",
        "    for path, caption in zip(batch_paths, batch_captions):\n",
        "        image_captions[os.path.basename(path)] = caption\n"
      ],
      "metadata": {
        "trusted": true,
        "id": "ntIGtH9B0Hg5"
      },
      "execution_count": null,
      "outputs": []
    },
    {
      "cell_type": "code",
      "source": [
        "with open('image_captions.json', 'w') as file:\n",
        "    json.dump(image_captions, file, indent=4)\n"
      ],
      "metadata": {
        "trusted": true,
        "id": "9Kq_xchE0Hg6"
      },
      "execution_count": null,
      "outputs": []
    },
    {
      "cell_type": "code",
      "source": [],
      "metadata": {
        "id": "Oj309d8O0Hg6"
      },
      "execution_count": null,
      "outputs": []
    },
    {
      "cell_type": "code",
      "source": [],
      "metadata": {
        "id": "66IKrex90Hg7"
      },
      "execution_count": null,
      "outputs": []
    },
    {
      "cell_type": "code",
      "source": [
        "import json\n",
        "import torch\n",
        "from transformers import pipeline"
      ],
      "metadata": {
        "execution": {
          "iopub.status.busy": "2024-03-05T10:35:01.592497Z",
          "iopub.execute_input": "2024-03-05T10:35:01.593346Z",
          "iopub.status.idle": "2024-03-05T10:35:12.650372Z",
          "shell.execute_reply.started": "2024-03-05T10:35:01.593315Z",
          "shell.execute_reply": "2024-03-05T10:35:12.649562Z"
        },
        "trusted": true,
        "id": "ca57_iyQ0Hg7",
        "outputId": "1f85e786-b0f6-4082-9776-4b3208501379"
      },
      "execution_count": null,
      "outputs": [
        {
          "name": "stderr",
          "text": "2024-03-05 10:35:05.500532: E external/local_xla/xla/stream_executor/cuda/cuda_dnn.cc:9261] Unable to register cuDNN factory: Attempting to register factory for plugin cuDNN when one has already been registered\n2024-03-05 10:35:05.500584: E external/local_xla/xla/stream_executor/cuda/cuda_fft.cc:607] Unable to register cuFFT factory: Attempting to register factory for plugin cuFFT when one has already been registered\n2024-03-05 10:35:05.502060: E external/local_xla/xla/stream_executor/cuda/cuda_blas.cc:1515] Unable to register cuBLAS factory: Attempting to register factory for plugin cuBLAS when one has already been registered\n",
          "output_type": "stream"
        }
      ]
    },
    {
      "cell_type": "code",
      "source": [
        "f = open('/kaggle/working/image_captions.json')\n",
        "#f = open('/kaggle/input/ikea-json/image_captions-ikea.json')\n",
        "data = json.load(f)"
      ],
      "metadata": {
        "execution": {
          "iopub.status.busy": "2024-03-05T11:41:06.389395Z",
          "iopub.execute_input": "2024-03-05T11:41:06.389887Z",
          "iopub.status.idle": "2024-03-05T11:41:06.514856Z",
          "shell.execute_reply.started": "2024-03-05T11:41:06.389840Z",
          "shell.execute_reply": "2024-03-05T11:41:06.513972Z"
        },
        "trusted": true,
        "id": "7r6z5FcD0Hg7"
      },
      "execution_count": null,
      "outputs": []
    },
    {
      "cell_type": "code",
      "source": [
        "pipe = pipeline(\n",
        "    \"text-generation\",\n",
        "    model=\"HuggingFaceH4/zephyr-7b-gemma-v0.1\",\n",
        "    device_map=\"auto\",\n",
        "    torch_dtype=torch.float16,\n",
        ")"
      ],
      "metadata": {
        "execution": {
          "iopub.status.busy": "2024-03-05T10:35:12.658970Z",
          "iopub.execute_input": "2024-03-05T10:35:12.659267Z",
          "iopub.status.idle": "2024-03-05T10:36:38.572188Z",
          "shell.execute_reply.started": "2024-03-05T10:35:12.659243Z",
          "shell.execute_reply": "2024-03-05T10:36:38.571331Z"
        },
        "trusted": true,
        "colab": {
          "referenced_widgets": [
            "673af2f77c5249078589af7f5b8d311a"
          ]
        },
        "id": "w3TWk_mM0Hg8",
        "outputId": "47fba3c4-9485-495e-b431-1b1e782c2593"
      },
      "execution_count": null,
      "outputs": [
        {
          "output_type": "display_data",
          "data": {
            "text/plain": "Loading checkpoint shards:   0%|          | 0/4 [00:00<?, ?it/s]",
            "application/vnd.jupyter.widget-view+json": {
              "version_major": 2,
              "version_minor": 0,
              "model_id": "673af2f77c5249078589af7f5b8d311a"
            }
          },
          "metadata": {}
        }
      ]
    },
    {
      "cell_type": "code",
      "source": [
        "prompt = \"Given a detailed description of a room's interior, identify all the distinct objects mentioned in the description. List these objects separated by commas, focusing solely on the items present in the room without including any descriptive or contextual information. For example, if the description mentions 'a cozy bedroom with a neatly made bed under a window, a dresser, and a potted plant', you should return 'bed, window, dresser, potted plant'.\"\n",
        "description = \"\"\n",
        "\n",
        "filenames = []\n",
        "all_messages = []"
      ],
      "metadata": {
        "execution": {
          "iopub.status.busy": "2024-03-05T11:41:15.944761Z",
          "iopub.execute_input": "2024-03-05T11:41:15.945163Z",
          "iopub.status.idle": "2024-03-05T11:41:15.950207Z",
          "shell.execute_reply.started": "2024-03-05T11:41:15.945135Z",
          "shell.execute_reply": "2024-03-05T11:41:15.949136Z"
        },
        "trusted": true,
        "id": "uXFzrN9h0Hg8"
      },
      "execution_count": null,
      "outputs": []
    },
    {
      "cell_type": "code",
      "source": [
        "messages = [\n",
        "    {\n",
        "        \"role\": \"system\",\n",
        "        \"content\": \"\",\n",
        "    },\n",
        "    {\"role\": \"user\", \"content\": None},\n",
        "]"
      ],
      "metadata": {
        "execution": {
          "iopub.status.busy": "2024-03-05T11:41:18.224146Z",
          "iopub.execute_input": "2024-03-05T11:41:18.224520Z",
          "iopub.status.idle": "2024-03-05T11:41:18.229769Z",
          "shell.execute_reply.started": "2024-03-05T11:41:18.224492Z",
          "shell.execute_reply": "2024-03-05T11:41:18.228667Z"
        },
        "trusted": true,
        "id": "pgTSeemr0Hg8"
      },
      "execution_count": null,
      "outputs": []
    },
    {
      "cell_type": "code",
      "source": [
        "for k in data.keys():\n",
        "    filenames.append(k)\n",
        "    messages[1]['content'] = f\"{prompt} \\n {data[k]}\"\n",
        "    all_messages.append(messages)"
      ],
      "metadata": {
        "execution": {
          "iopub.status.busy": "2024-03-05T11:41:22.928709Z",
          "iopub.execute_input": "2024-03-05T11:41:22.929608Z",
          "iopub.status.idle": "2024-03-05T11:41:22.984413Z",
          "shell.execute_reply.started": "2024-03-05T11:41:22.929576Z",
          "shell.execute_reply": "2024-03-05T11:41:22.983645Z"
        },
        "trusted": true,
        "id": "gViTcfCZ0Hg9"
      },
      "execution_count": null,
      "outputs": []
    },
    {
      "cell_type": "code",
      "source": [
        "all_messages[0]"
      ],
      "metadata": {
        "execution": {
          "iopub.status.busy": "2024-03-05T11:41:39.601536Z",
          "iopub.execute_input": "2024-03-05T11:41:39.602379Z",
          "iopub.status.idle": "2024-03-05T11:41:39.608579Z",
          "shell.execute_reply.started": "2024-03-05T11:41:39.602344Z",
          "shell.execute_reply": "2024-03-05T11:41:39.607600Z"
        },
        "trusted": true,
        "id": "FyP_fBxz0Hg9",
        "outputId": "790c20e5-6949-438a-8175-5cf3ec0d562e"
      },
      "execution_count": null,
      "outputs": [
        {
          "execution_count": 49,
          "output_type": "execute_result",
          "data": {
            "text/plain": "[{'role': 'system', 'content': ''},\n {'role': 'user',\n  'content': \"Given a detailed description of a room's interior, identify all the distinct objects mentioned in the description. List these objects separated by commas, focusing solely on the items present in the room without including any descriptive or contextual information. For example, if the description mentions 'a cozy bedroom with a neatly made bed under a window, a dresser, and a potted plant', you should return 'bed, window, dresser, potted plant'. \\n The room is a large, open, and clean living room with a white color scheme. It features a couch, a chair, and a television. The room also has a dining table and a few decorative items, such as a vase and a bottle. The overall atmosphere of the room is bright and inviting, with a focus on comfort and functionality.\"}]"
          },
          "metadata": {}
        }
      ]
    },
    {
      "cell_type": "code",
      "source": [
        "outputs = []\n",
        "count = 0\n",
        "batch_size = 16"
      ],
      "metadata": {
        "execution": {
          "iopub.status.busy": "2024-03-05T11:41:43.429893Z",
          "iopub.execute_input": "2024-03-05T11:41:43.430651Z",
          "iopub.status.idle": "2024-03-05T11:41:43.435004Z",
          "shell.execute_reply.started": "2024-03-05T11:41:43.430620Z",
          "shell.execute_reply": "2024-03-05T11:41:43.433892Z"
        },
        "trusted": true,
        "id": "KeJb1JSj0Hg9"
      },
      "execution_count": null,
      "outputs": []
    },
    {
      "cell_type": "code",
      "source": [
        "for out in pipe(\n",
        "            all_messages,\n",
        "            batch_size=batch_size,\n",
        "            max_new_tokens=20,\n",
        "            do_sample=True,\n",
        "            temperature=0.7,\n",
        "            top_k=50,\n",
        "            top_p=0.95,\n",
        "            stop_sequence=\"<|im_end|>\",\n",
        "):\n",
        "    outputs.append(out)\n",
        "    count += batch_size\n",
        "    print(count)"
      ],
      "metadata": {
        "execution": {
          "iopub.status.busy": "2024-03-05T11:41:46.991355Z",
          "iopub.execute_input": "2024-03-05T11:41:46.991731Z"
        },
        "trusted": true,
        "id": "PnpTGm-e0Hg9"
      },
      "execution_count": null,
      "outputs": []
    },
    {
      "cell_type": "code",
      "source": [
        "len(outputs)"
      ],
      "metadata": {
        "execution": {
          "iopub.status.busy": "2024-03-05T11:29:30.765181Z",
          "iopub.execute_input": "2024-03-05T11:29:30.766407Z",
          "iopub.status.idle": "2024-03-05T11:29:30.772597Z",
          "shell.execute_reply.started": "2024-03-05T11:29:30.766372Z",
          "shell.execute_reply": "2024-03-05T11:29:30.771678Z"
        },
        "trusted": true,
        "id": "lqhCxMzd0Hg-",
        "outputId": "528aa750-0764-4c94-addf-fb67a0f5e737"
      },
      "execution_count": null,
      "outputs": [
        {
          "execution_count": 10,
          "output_type": "execute_result",
          "data": {
            "text/plain": "232"
          },
          "metadata": {}
        }
      ]
    },
    {
      "cell_type": "code",
      "source": [
        "outputs[0]"
      ],
      "metadata": {
        "execution": {
          "iopub.status.busy": "2024-03-05T11:29:41.889134Z",
          "iopub.execute_input": "2024-03-05T11:29:41.889900Z",
          "iopub.status.idle": "2024-03-05T11:29:41.896039Z",
          "shell.execute_reply.started": "2024-03-05T11:29:41.889863Z",
          "shell.execute_reply": "2024-03-05T11:29:41.894993Z"
        },
        "trusted": true,
        "id": "_9yqAg7g0Hg-",
        "outputId": "3a3c87f7-5e55-47e0-97ba-b9fbe4e5b31d"
      },
      "execution_count": null,
      "outputs": [
        {
          "execution_count": 11,
          "output_type": "execute_result",
          "data": {
            "text/plain": "[{'generated_text': [{'role': 'system', 'content': ''},\n   {'role': 'user',\n    'content': \"Given a detailed description of a room's interior, identify all the distinct objects mentioned in the description. List these objects separated by commas, focusing solely on the items present in the room without including any descriptive or contextual information. For example, if the description mentions 'a cozy bedroom with a neatly made bed under a window, a dresser, and a potted plant', you should return 'bed, window, dresser, potted plant'. \\n The room is a cozy living room with a white color scheme. It features a television on the wall, a couch, and a chair. There is also a dining table in the room. The living room is decorated with various books, which are scattered throughout the space. Additionally, there are two teddy bears in the room, one on the couch and the other on the floor. The room appears to be a comfortable and inviting space for relaxation and entertainment.\"},\n   {'role': 'assistant',\n    'content': 'couch, chair, television, dining table, books, teddy bear on couch, teddy bear on floor'}]}]"
          },
          "metadata": {}
        }
      ]
    },
    {
      "cell_type": "code",
      "source": [
        "outputs[1]"
      ],
      "metadata": {
        "execution": {
          "iopub.status.busy": "2024-03-05T11:30:34.134099Z",
          "iopub.execute_input": "2024-03-05T11:30:34.134497Z",
          "iopub.status.idle": "2024-03-05T11:30:34.141709Z",
          "shell.execute_reply.started": "2024-03-05T11:30:34.134465Z",
          "shell.execute_reply": "2024-03-05T11:30:34.140636Z"
        },
        "trusted": true,
        "id": "WJA8hyVi0Hg-",
        "outputId": "9eddac5c-b332-4e76-b9d6-3213705dd1a4"
      },
      "execution_count": null,
      "outputs": [
        {
          "execution_count": 12,
          "output_type": "execute_result",
          "data": {
            "text/plain": "[{'generated_text': [{'role': 'system', 'content': ''},\n   {'role': 'user',\n    'content': \"Given a detailed description of a room's interior, identify all the distinct objects mentioned in the description. List these objects separated by commas, focusing solely on the items present in the room without including any descriptive or contextual information. For example, if the description mentions 'a cozy bedroom with a neatly made bed under a window, a dresser, and a potted plant', you should return 'bed, window, dresser, potted plant'. \\n The room is a cozy living room with a white color scheme. It features a television on the wall, a couch, and a chair. There is also a dining table in the room. The living room is decorated with various books, which are scattered throughout the space. Additionally, there are two teddy bears in the room, one on the couch and the other on the floor. The room appears to be a comfortable and inviting space for relaxation and entertainment.\"},\n   {'role': 'assistant',\n    'content': 'couch, chair, television, dining table, books, teddy bear on couch, teddy bear on floor'}]}]"
          },
          "metadata": {}
        }
      ]
    },
    {
      "cell_type": "code",
      "source": [
        "print()"
      ],
      "metadata": {
        "execution": {
          "iopub.status.busy": "2024-03-05T11:38:12.384202Z",
          "iopub.execute_input": "2024-03-05T11:38:12.384618Z",
          "iopub.status.idle": "2024-03-05T11:38:12.390509Z",
          "shell.execute_reply.started": "2024-03-05T11:38:12.384586Z",
          "shell.execute_reply": "2024-03-05T11:38:12.389412Z"
        },
        "trusted": true,
        "id": "rDCEYljj0Hg_",
        "outputId": "6366bc24-db8e-4bc5-f06a-d2d64f6053c3"
      },
      "execution_count": null,
      "outputs": [
        {
          "name": "stdout",
          "text": "couch, chair, television, dining table, books, teddy bear on couch, teddy bear on floor\n",
          "output_type": "stream"
        }
      ]
    },
    {
      "cell_type": "code",
      "source": [],
      "metadata": {
        "execution": {
          "iopub.status.busy": "2024-03-05T11:36:01.181806Z",
          "iopub.execute_input": "2024-03-05T11:36:01.182717Z",
          "iopub.status.idle": "2024-03-05T11:36:01.189815Z",
          "shell.execute_reply.started": "2024-03-05T11:36:01.182679Z",
          "shell.execute_reply": "2024-03-05T11:36:01.188677Z"
        },
        "trusted": true,
        "id": "uoZy-0w90Hg_",
        "outputId": "8dc5195c-5c1e-467a-8435-ad65dfe875c7"
      },
      "execution_count": null,
      "outputs": [
        {
          "execution_count": 34,
          "output_type": "execute_result",
          "data": {
            "text/plain": "\"Given a detailed description of a room's interior, identify all the distinct objects mentioned in the description. List these objects separated by commas, focusing solely on the items present in the room without including any descriptive or contextual information. For example, if the description mentions 'a cozy bedroom with a neatly made bed under a window, a dresser, and a potted plant', you should return 'bed, window, dresser, potted plant'. \\n The room is a cozy living room with a white color scheme. It features a television on the wall, a couch, and a chair. There is also a dining table in the room. The living room is decorated with various books, which are scattered throughout the space. Additionally, there are two teddy bears in the room, one on the couch and the other on the floor. The room appears to be a comfortable and inviting space for relaxation and entertainment.\""
          },
          "metadata": {}
        }
      ]
    },
    {
      "cell_type": "code",
      "source": [
        "len(filenames), len(outputs)"
      ],
      "metadata": {
        "execution": {
          "iopub.status.busy": "2024-03-05T11:36:22.382257Z",
          "iopub.execute_input": "2024-03-05T11:36:22.382679Z",
          "iopub.status.idle": "2024-03-05T11:36:22.390223Z",
          "shell.execute_reply.started": "2024-03-05T11:36:22.382645Z",
          "shell.execute_reply": "2024-03-05T11:36:22.389005Z"
        },
        "trusted": true,
        "id": "JcfgXX7j0Hg_",
        "outputId": "ab341cd3-a1f2-421a-ccaa-77c25a615d1a"
      },
      "execution_count": null,
      "outputs": [
        {
          "execution_count": 35,
          "output_type": "execute_result",
          "data": {
            "text/plain": "(232, 232)"
          },
          "metadata": {}
        }
      ]
    },
    {
      "cell_type": "code",
      "source": [
        "object_caption = {}\n",
        "for i in range(len(filenames)):\n",
        "    object_caption[filenames[i]] = outputs[i][0][\"generated_text\"][-1][\"content\"]"
      ],
      "metadata": {
        "execution": {
          "iopub.status.busy": "2024-03-05T11:38:33.398711Z",
          "iopub.execute_input": "2024-03-05T11:38:33.399646Z",
          "iopub.status.idle": "2024-03-05T11:38:33.404830Z",
          "shell.execute_reply.started": "2024-03-05T11:38:33.399611Z",
          "shell.execute_reply": "2024-03-05T11:38:33.403703Z"
        },
        "trusted": true,
        "id": "V5OxgfFF0HhA"
      },
      "execution_count": null,
      "outputs": []
    },
    {
      "cell_type": "code",
      "source": [
        "with open('main_objects_captions.json', 'w') as file:\n",
        "    json.dump(object_caption, file, indent=4)"
      ],
      "metadata": {
        "execution": {
          "iopub.status.busy": "2024-03-05T11:39:16.208734Z",
          "iopub.execute_input": "2024-03-05T11:39:16.209806Z",
          "iopub.status.idle": "2024-03-05T11:39:16.215984Z",
          "shell.execute_reply.started": "2024-03-05T11:39:16.209761Z",
          "shell.execute_reply": "2024-03-05T11:39:16.215028Z"
        },
        "trusted": true,
        "id": "e6qPCPot0HhA"
      },
      "execution_count": null,
      "outputs": []
    }
  ]
}