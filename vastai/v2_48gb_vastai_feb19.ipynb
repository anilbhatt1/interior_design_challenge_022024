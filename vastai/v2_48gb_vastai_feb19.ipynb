{
 "cells": [
  {
   "cell_type": "code",
   "execution_count": 1,
   "id": "6abfa854-41e7-451a-b6e8-649dd085e717",
   "metadata": {},
   "outputs": [
    {
     "name": "stdout",
     "output_type": "stream",
     "text": [
      "Tue Feb 20 10:59:01 2024       \n",
      "+---------------------------------------------------------------------------------------+\n",
      "| NVIDIA-SMI 535.104.05             Driver Version: 535.104.05   CUDA Version: 12.2     |\n",
      "|-----------------------------------------+----------------------+----------------------+\n",
      "| GPU  Name                 Persistence-M | Bus-Id        Disp.A | Volatile Uncorr. ECC |\n",
      "| Fan  Temp   Perf          Pwr:Usage/Cap |         Memory-Usage | GPU-Util  Compute M. |\n",
      "|                                         |                      |               MIG M. |\n",
      "|=========================================+======================+======================|\n",
      "|   0  NVIDIA RTX A6000               On  | 00000000:0C:00.0 Off |                  Off |\n",
      "| 30%   29C    P8              23W / 300W |      2MiB / 49140MiB |      0%      Default |\n",
      "|                                         |                      |                  N/A |\n",
      "+-----------------------------------------+----------------------+----------------------+\n",
      "                                                                                         \n",
      "+---------------------------------------------------------------------------------------+\n",
      "| Processes:                                                                            |\n",
      "|  GPU   GI   CI        PID   Type   Process name                            GPU Memory |\n",
      "|        ID   ID                                                             Usage      |\n",
      "|=======================================================================================|\n",
      "|  No running processes found                                                           |\n",
      "+---------------------------------------------------------------------------------------+\n"
     ]
    }
   ],
   "source": [
    "!nvidia-smi"
   ]
  },
  {
   "cell_type": "code",
   "execution_count": 2,
   "id": "094d9c0b-886a-4f84-b181-56f522c650e6",
   "metadata": {},
   "outputs": [
    {
     "name": "stderr",
     "output_type": "stream",
     "text": [
      "/opt/conda/lib/python3.10/site-packages/diffusers/utils/outputs.py:63: UserWarning: torch.utils._pytree._register_pytree_node is deprecated. Please use torch.utils._pytree.register_pytree_node instead.\n",
      "  torch.utils._pytree._register_pytree_node(\n"
     ]
    }
   ],
   "source": [
    "from __future__ import print_function\n",
    "import torch\n",
    "import torch.nn as nn\n",
    "import torch.nn.functional as F\n",
    "import torch.optim as optim\n",
    "import torchvision\n",
    "from torch.utils.data import DataLoader, Dataset\n",
    "from torch.optim.lr_scheduler import ReduceLROnPlateau\n",
    "from torch.optim.lr_scheduler import OneCycleLR\n",
    "import os\n",
    "from PIL import Image\n",
    "import numpy as np\n",
    "import random\n",
    "from tqdm import tqdm\n",
    "\n",
    "from base64 import b64encode\n",
    "import numpy as np\n",
    "import json\n",
    "import cv2\n",
    "import subprocess\n",
    "\n",
    "# For video display:\n",
    "from IPython.display import HTML\n",
    "from pathlib import Path\n",
    "from torch import autocast\n",
    "from torchvision import transforms as tfms\n",
    "import pytorch_lightning as pl\n",
    "from transformers import logging #CLIPTextModel, CLIPTokenizer,\n",
    "from transformers import BlipProcessor, BlipForConditionalGeneration\n",
    "\n",
    "# torch.manual_seed(1)\n",
    "\n",
    "# Supress some unnecessary warnings when loading the CLIPTextModel\n",
    "logging.set_verbosity_error()\n",
    "\n",
    "# Set device\n",
    "torch_device = \"cuda\" if torch.cuda.is_available() else \"cpu\"\n",
    "\n",
    "from huggingface_hub import hf_hub_download\n",
    "from diffusers import DiffusionPipeline"
   ]
  },
  {
   "cell_type": "code",
   "execution_count": 3,
   "id": "a34e5c97-b860-4e04-8bd5-11609b97be2c",
   "metadata": {},
   "outputs": [
    {
     "data": {
      "text/plain": [
       "'/'"
      ]
     },
     "execution_count": 3,
     "metadata": {},
     "output_type": "execute_result"
    }
   ],
   "source": [
    "os.getcwd()"
   ]
  },
  {
   "cell_type": "code",
   "execution_count": 4,
   "id": "0abbd307-2a5a-4d11-aef0-a01ebd6b8aeb",
   "metadata": {},
   "outputs": [
    {
     "name": "stdout",
     "output_type": "stream",
     "text": [
      "Cloning into 'ControlNet'...\n",
      "remote: Enumerating objects: 1398, done.\u001b[K\n",
      "remote: Counting objects: 100% (477/477), done.\u001b[K\n",
      "remote: Compressing objects: 100% (84/84), done.\u001b[K\n",
      "remote: Total 1398 (delta 420), reused 408 (delta 393), pack-reused 921\u001b[K\n",
      "Receiving objects: 100% (1398/1398), 122.40 MiB | 16.17 MiB/s, done.\n",
      "Resolving deltas: 100% (637/637), done.\n"
     ]
    }
   ],
   "source": [
    "# !git clone https://github.com/lllyasviel/ControlNet.git\n",
    "!git clone https://github.com/anilbhatt1/ControlNet.git"
   ]
  },
  {
   "cell_type": "code",
   "execution_count": 7,
   "id": "0abae59b-e1ac-40f2-bf88-08301271023a",
   "metadata": {},
   "outputs": [
    {
     "data": {
      "application/vnd.jupyter.widget-view+json": {
       "model_id": "c71455283f0d4465be227c26780d2442",
       "version_major": 2,
       "version_minor": 0
      },
      "text/plain": [
       "v2-1_768-ema-pruned.ckpt:   0%|          | 0.00/5.21G [00:00<?, ?B/s]"
      ]
     },
     "metadata": {},
     "output_type": "display_data"
    },
    {
     "name": "stdout",
     "output_type": "stream",
     "text": [
      "/root/.cache/huggingface/hub/models--stabilityai--stable-diffusion-2-1/snapshots/5cae40e6a2745ae2b01ad92ae5043f95f23644d6/v2-1_768-ema-pruned.ckpt\n"
     ]
    }
   ],
   "source": [
    "# Do huggingface-cli login and add token via vastai terminal before doing this\n",
    "downloaded_model_path = hf_hub_download(repo_id=\"stabilityai/stable-diffusion-2-1\",\n",
    "                                        filename=\"v2-1_768-ema-pruned.ckpt\",\n",
    "                                        use_auth_token=True)\n",
    "print(downloaded_model_path)"
   ]
  },
  {
   "cell_type": "code",
   "execution_count": 6,
   "id": "2e5e39c2-12f9-4bb6-8b02-812f0210c429",
   "metadata": {},
   "outputs": [
    {
     "data": {
      "text/plain": [
       "'/'"
      ]
     },
     "execution_count": 6,
     "metadata": {},
     "output_type": "execute_result"
    }
   ],
   "source": [
    "os.getcwd()"
   ]
  },
  {
   "cell_type": "code",
   "execution_count": null,
   "id": "c7da0779-d89f-4122-8e3c-5985d690de9b",
   "metadata": {},
   "outputs": [],
   "source": [
    "#Copy file using gdown and apt install unzip before running this\n",
    "!unzip -q '/fill50k.zip'"
   ]
  },
  {
   "cell_type": "code",
   "execution_count": 7,
   "id": "7d49ca2f-0fdd-419a-8b4e-f85bd572ca6b",
   "metadata": {},
   "outputs": [
    {
     "name": "stdout",
     "output_type": "stream",
     "text": [
      "50000\n",
      "50000\n"
     ]
    }
   ],
   "source": [
    "!ls '/fill50k/source' | wc -l\n",
    "!ls '/fill50k/target' | wc -l"
   ]
  },
  {
   "cell_type": "code",
   "execution_count": 4,
   "id": "d9c0cce9-4e87-4b2a-926d-9f7813076d65",
   "metadata": {},
   "outputs": [],
   "source": [
    "class MyDataset(Dataset):\n",
    "    def __init__(self):\n",
    "        self.data = []\n",
    "        with open('/prompt_10k.json', 'rt') as f:\n",
    "            for line in f:\n",
    "                self.data.append(json.loads(line))\n",
    "        self.width = 512\n",
    "        self.height = 512\n",
    "\n",
    "    def __len__(self):\n",
    "        return len(self.data)\n",
    "\n",
    "    def __getitem__(self, idx):\n",
    "        item = self.data[idx]\n",
    "\n",
    "        source_filename = item['source']\n",
    "        target_filename = item['target']\n",
    "        prompt = item['prompt']\n",
    "\n",
    "        source = cv2.imread('/fill50k/' + source_filename)\n",
    "        target = cv2.imread('/fill50k/' + target_filename)\n",
    "\n",
    "        source = cv2.resize(source, (self.width, self.height), interpolation=cv2.INTER_NEAREST)\n",
    "        target = cv2.resize(target, (self.width, self.height), interpolation=cv2.INTER_NEAREST)\n",
    "\n",
    "        # Do not forget that OpenCV read images in BGR order.\n",
    "        source = cv2.cvtColor(source, cv2.COLOR_BGR2RGB)\n",
    "        target = cv2.cvtColor(target, cv2.COLOR_BGR2RGB)\n",
    "\n",
    "        # Normalize source images to [0, 1].\n",
    "        source = source.astype(np.float32) / 255.0\n",
    "\n",
    "        # Normalize target images to [-1, 1].\n",
    "        target = (target.astype(np.float32) / 127.5) - 1.0\n",
    "\n",
    "        return dict(jpg=target, txt=prompt, hint=source)"
   ]
  },
  {
   "cell_type": "code",
   "execution_count": 5,
   "id": "26e4f3d8-153b-4b06-aa70-4624d2596cfc",
   "metadata": {},
   "outputs": [
    {
     "name": "stdout",
     "output_type": "stream",
     "text": [
      "10000\n",
      "fuchsia circle with yellow background\n",
      "(512, 512, 3)\n",
      "(512, 512, 3)\n"
     ]
    }
   ],
   "source": [
    "dataset = MyDataset()\n",
    "print(len(dataset))\n",
    "\n",
    "item = dataset[5234]\n",
    "jpg = item['jpg']\n",
    "txt = item['txt']\n",
    "hint = item['hint']\n",
    "print(txt)\n",
    "print(jpg.shape)\n",
    "print(hint.shape)"
   ]
  },
  {
   "cell_type": "code",
   "execution_count": 8,
   "id": "beaaa139-852a-4e59-b9bc-832c8584a13a",
   "metadata": {},
   "outputs": [
    {
     "name": "stdout",
     "output_type": "stream",
     "text": [
      "mkdir: cannot create directory ‘/models’: File exists\n"
     ]
    }
   ],
   "source": [
    "!mkdir '/models'"
   ]
  },
  {
   "cell_type": "code",
   "execution_count": 9,
   "id": "b6f30bef-ae75-42c5-9692-b3c12010861f",
   "metadata": {},
   "outputs": [],
   "source": [
    "!cp '/root/.cache/huggingface/hub/models--stabilityai--stable-diffusion-2-1/snapshots/5cae40e6a2745ae2b01ad92ae5043f95f23644d6/v2-1_768-ema-pruned.ckpt' '/models'"
   ]
  },
  {
   "cell_type": "code",
   "execution_count": 10,
   "id": "97fae4b1-21fb-49ca-af9f-adf0bf4e9b6a",
   "metadata": {},
   "outputs": [
    {
     "name": "stderr",
     "output_type": "stream",
     "text": [
      "/opt/conda/lib/python3.10/site-packages/IPython/core/magics/osm.py:417: UserWarning: using dhist requires you to install the `pickleshare` library.\n",
      "  self.shell.db['dhist'] = compress_dhist(dhist)[-100:]\n"
     ]
    },
    {
     "name": "stdout",
     "output_type": "stream",
     "text": [
      "/ControlNet\n",
      "LICENSE\t\t\t       gradio_pose2image.py\n",
      "README.md\t\t       gradio_scribble2image.py\n",
      "annotator\t\t       gradio_scribble2image_interactive.py\n",
      "cldm\t\t\t       gradio_seg2image.py\n",
      "config.py\t\t       ldm\n",
      "docs\t\t\t       models\n",
      "environment.yaml\t       share.py\n",
      "font\t\t\t       test_imgs\n",
      "github_page\t\t       tool_add_control.py\n",
      "gradio_annotator.py\t       tool_add_control_sd21.py\n",
      "gradio_canny2image.py\t       tool_transfer_control.py\n",
      "gradio_depth2image.py\t       tutorial_dataset.py\n",
      "gradio_fake_scribble2image.py  tutorial_dataset_test.py\n",
      "gradio_hed2image.py\t       tutorial_train.py\n",
      "gradio_hough2image.py\t       tutorial_train_sd21.py\n",
      "gradio_normal2image.py\n"
     ]
    }
   ],
   "source": [
    "%cd '/ControlNet'\n",
    "! ls"
   ]
  },
  {
   "cell_type": "code",
   "execution_count": 11,
   "id": "49a5ce99-2b71-41c1-aaa8-7c3b31979d66",
   "metadata": {},
   "outputs": [
    {
     "name": "stdout",
     "output_type": "stream",
     "text": [
      "logging improved.\n",
      "create_model-config : {'model': {'target': 'cldm.cldm.ControlLDM', 'params': {'linear_start': 0.00085, 'linear_end': 0.012, 'num_timesteps_cond': 1, 'log_every_t': 200, 'timesteps': 1000, 'first_stage_key': 'jpg', 'cond_stage_key': 'txt', 'control_key': 'hint', 'image_size': 64, 'channels': 4, 'cond_stage_trainable': False, 'conditioning_key': 'crossattn', 'monitor': 'val/loss_simple_ema', 'scale_factor': 0.18215, 'use_ema': False, 'only_mid_control': False, 'control_stage_config': {'target': 'cldm.cldm.ControlNet', 'params': {'use_checkpoint': True, 'image_size': 32, 'in_channels': 4, 'hint_channels': 3, 'model_channels': 320, 'attention_resolutions': [4, 2, 1], 'num_res_blocks': 2, 'channel_mult': [1, 2, 4, 4], 'num_head_channels': 64, 'use_spatial_transformer': True, 'use_linear_in_transformer': True, 'transformer_depth': 1, 'context_dim': 1024, 'legacy': False}}, 'unet_config': {'target': 'cldm.cldm.ControlledUnetModel', 'params': {'use_checkpoint': True, 'image_size': 32, 'in_channels': 4, 'out_channels': 4, 'model_channels': 320, 'attention_resolutions': [4, 2, 1], 'num_res_blocks': 2, 'channel_mult': [1, 2, 4, 4], 'num_head_channels': 64, 'use_spatial_transformer': True, 'use_linear_in_transformer': True, 'transformer_depth': 1, 'context_dim': 1024, 'legacy': False}}, 'first_stage_config': {'target': 'ldm.models.autoencoder.AutoencoderKL', 'params': {'embed_dim': 4, 'monitor': 'val/rec_loss', 'ddconfig': {'double_z': True, 'z_channels': 4, 'resolution': 256, 'in_channels': 3, 'out_ch': 3, 'ch': 128, 'ch_mult': [1, 2, 4, 4], 'num_res_blocks': 2, 'attn_resolutions': [], 'dropout': 0.0}, 'lossconfig': {'target': 'torch.nn.Identity'}}}, 'cond_stage_config': {'target': 'ldm.modules.encoders.modules.FrozenOpenCLIPEmbedder', 'params': {'freeze': True, 'layer': 'penultimate'}}}}}\n",
      "ControlLDM: Running in eps-prediction mode\n",
      "Setting up MemoryEfficientCrossAttention. Query dim is 320, context_dim is None and using 5 heads.\n",
      "Setting up MemoryEfficientCrossAttention. Query dim is 320, context_dim is 1024 and using 5 heads.\n",
      "Setting up MemoryEfficientCrossAttention. Query dim is 320, context_dim is None and using 5 heads.\n",
      "Setting up MemoryEfficientCrossAttention. Query dim is 320, context_dim is 1024 and using 5 heads.\n",
      "Setting up MemoryEfficientCrossAttention. Query dim is 640, context_dim is None and using 10 heads.\n",
      "Setting up MemoryEfficientCrossAttention. Query dim is 640, context_dim is 1024 and using 10 heads.\n",
      "Setting up MemoryEfficientCrossAttention. Query dim is 640, context_dim is None and using 10 heads.\n",
      "Setting up MemoryEfficientCrossAttention. Query dim is 640, context_dim is 1024 and using 10 heads.\n",
      "Setting up MemoryEfficientCrossAttention. Query dim is 1280, context_dim is None and using 20 heads.\n",
      "Setting up MemoryEfficientCrossAttention. Query dim is 1280, context_dim is 1024 and using 20 heads.\n",
      "Setting up MemoryEfficientCrossAttention. Query dim is 1280, context_dim is None and using 20 heads.\n",
      "Setting up MemoryEfficientCrossAttention. Query dim is 1280, context_dim is 1024 and using 20 heads.\n",
      "Setting up MemoryEfficientCrossAttention. Query dim is 1280, context_dim is None and using 20 heads.\n",
      "Setting up MemoryEfficientCrossAttention. Query dim is 1280, context_dim is 1024 and using 20 heads.\n",
      "Setting up MemoryEfficientCrossAttention. Query dim is 1280, context_dim is None and using 20 heads.\n",
      "Setting up MemoryEfficientCrossAttention. Query dim is 1280, context_dim is 1024 and using 20 heads.\n",
      "Setting up MemoryEfficientCrossAttention. Query dim is 1280, context_dim is None and using 20 heads.\n",
      "Setting up MemoryEfficientCrossAttention. Query dim is 1280, context_dim is 1024 and using 20 heads.\n",
      "Setting up MemoryEfficientCrossAttention. Query dim is 1280, context_dim is None and using 20 heads.\n",
      "Setting up MemoryEfficientCrossAttention. Query dim is 1280, context_dim is 1024 and using 20 heads.\n",
      "Setting up MemoryEfficientCrossAttention. Query dim is 640, context_dim is None and using 10 heads.\n",
      "Setting up MemoryEfficientCrossAttention. Query dim is 640, context_dim is 1024 and using 10 heads.\n",
      "Setting up MemoryEfficientCrossAttention. Query dim is 640, context_dim is None and using 10 heads.\n",
      "Setting up MemoryEfficientCrossAttention. Query dim is 640, context_dim is 1024 and using 10 heads.\n",
      "Setting up MemoryEfficientCrossAttention. Query dim is 640, context_dim is None and using 10 heads.\n",
      "Setting up MemoryEfficientCrossAttention. Query dim is 640, context_dim is 1024 and using 10 heads.\n",
      "Setting up MemoryEfficientCrossAttention. Query dim is 320, context_dim is None and using 5 heads.\n",
      "Setting up MemoryEfficientCrossAttention. Query dim is 320, context_dim is 1024 and using 5 heads.\n",
      "Setting up MemoryEfficientCrossAttention. Query dim is 320, context_dim is None and using 5 heads.\n",
      "Setting up MemoryEfficientCrossAttention. Query dim is 320, context_dim is 1024 and using 5 heads.\n",
      "Setting up MemoryEfficientCrossAttention. Query dim is 320, context_dim is None and using 5 heads.\n",
      "Setting up MemoryEfficientCrossAttention. Query dim is 320, context_dim is 1024 and using 5 heads.\n",
      "DiffusionWrapper has 865.91 M params.\n",
      "making attention of type 'vanilla-xformers' with 512 in_channels\n",
      "building MemoryEfficientAttnBlock with 512 in_channels...\n",
      "Working with z of shape (1, 4, 32, 32) = 4096 dimensions.\n",
      "making attention of type 'vanilla-xformers' with 512 in_channels\n",
      "building MemoryEfficientAttnBlock with 512 in_channels...\n",
      "open_clip_pytorch_model.bin: 100%|██████████| 3.94G/3.94G [00:35<00:00, 112MB/s]\n",
      "Setting up MemoryEfficientCrossAttention. Query dim is 320, context_dim is None and using 5 heads.\n",
      "Setting up MemoryEfficientCrossAttention. Query dim is 320, context_dim is 1024 and using 5 heads.\n",
      "Setting up MemoryEfficientCrossAttention. Query dim is 320, context_dim is None and using 5 heads.\n",
      "Setting up MemoryEfficientCrossAttention. Query dim is 320, context_dim is 1024 and using 5 heads.\n",
      "Setting up MemoryEfficientCrossAttention. Query dim is 640, context_dim is None and using 10 heads.\n",
      "Setting up MemoryEfficientCrossAttention. Query dim is 640, context_dim is 1024 and using 10 heads.\n",
      "Setting up MemoryEfficientCrossAttention. Query dim is 640, context_dim is None and using 10 heads.\n",
      "Setting up MemoryEfficientCrossAttention. Query dim is 640, context_dim is 1024 and using 10 heads.\n",
      "Setting up MemoryEfficientCrossAttention. Query dim is 1280, context_dim is None and using 20 heads.\n",
      "Setting up MemoryEfficientCrossAttention. Query dim is 1280, context_dim is 1024 and using 20 heads.\n",
      "Setting up MemoryEfficientCrossAttention. Query dim is 1280, context_dim is None and using 20 heads.\n",
      "Setting up MemoryEfficientCrossAttention. Query dim is 1280, context_dim is 1024 and using 20 heads.\n",
      "Setting up MemoryEfficientCrossAttention. Query dim is 1280, context_dim is None and using 20 heads.\n",
      "Setting up MemoryEfficientCrossAttention. Query dim is 1280, context_dim is 1024 and using 20 heads.\n",
      "Loaded model config from [./models/cldm_v21.yaml]\n",
      "These weights are newly added: logvar\n",
      "These weights are newly added: control_model.zero_convs.0.0.weight\n",
      "These weights are newly added: control_model.zero_convs.0.0.bias\n",
      "These weights are newly added: control_model.zero_convs.1.0.weight\n",
      "These weights are newly added: control_model.zero_convs.1.0.bias\n",
      "These weights are newly added: control_model.zero_convs.2.0.weight\n",
      "These weights are newly added: control_model.zero_convs.2.0.bias\n",
      "These weights are newly added: control_model.zero_convs.3.0.weight\n",
      "These weights are newly added: control_model.zero_convs.3.0.bias\n",
      "These weights are newly added: control_model.zero_convs.4.0.weight\n",
      "These weights are newly added: control_model.zero_convs.4.0.bias\n",
      "These weights are newly added: control_model.zero_convs.5.0.weight\n",
      "These weights are newly added: control_model.zero_convs.5.0.bias\n",
      "These weights are newly added: control_model.zero_convs.6.0.weight\n",
      "These weights are newly added: control_model.zero_convs.6.0.bias\n",
      "These weights are newly added: control_model.zero_convs.7.0.weight\n",
      "These weights are newly added: control_model.zero_convs.7.0.bias\n",
      "These weights are newly added: control_model.zero_convs.8.0.weight\n",
      "These weights are newly added: control_model.zero_convs.8.0.bias\n",
      "These weights are newly added: control_model.zero_convs.9.0.weight\n",
      "These weights are newly added: control_model.zero_convs.9.0.bias\n",
      "These weights are newly added: control_model.zero_convs.10.0.weight\n",
      "These weights are newly added: control_model.zero_convs.10.0.bias\n",
      "These weights are newly added: control_model.zero_convs.11.0.weight\n",
      "These weights are newly added: control_model.zero_convs.11.0.bias\n",
      "These weights are newly added: control_model.input_hint_block.0.weight\n",
      "These weights are newly added: control_model.input_hint_block.0.bias\n",
      "These weights are newly added: control_model.input_hint_block.2.weight\n",
      "These weights are newly added: control_model.input_hint_block.2.bias\n",
      "These weights are newly added: control_model.input_hint_block.4.weight\n",
      "These weights are newly added: control_model.input_hint_block.4.bias\n",
      "These weights are newly added: control_model.input_hint_block.6.weight\n",
      "These weights are newly added: control_model.input_hint_block.6.bias\n",
      "These weights are newly added: control_model.input_hint_block.8.weight\n",
      "These weights are newly added: control_model.input_hint_block.8.bias\n",
      "These weights are newly added: control_model.input_hint_block.10.weight\n",
      "These weights are newly added: control_model.input_hint_block.10.bias\n",
      "These weights are newly added: control_model.input_hint_block.12.weight\n",
      "These weights are newly added: control_model.input_hint_block.12.bias\n",
      "These weights are newly added: control_model.input_hint_block.14.weight\n",
      "These weights are newly added: control_model.input_hint_block.14.bias\n",
      "These weights are newly added: control_model.middle_block_out.0.weight\n",
      "These weights are newly added: control_model.middle_block_out.0.bias\n",
      "Done.\n"
     ]
    }
   ],
   "source": [
    "!python3 tool_add_control_sd21.py '/models/v2-1_768-ema-pruned.ckpt' '/models/control_sd21_ini.ckpt'"
   ]
  },
  {
   "cell_type": "code",
   "execution_count": 12,
   "id": "06d99e65-6914-4c7b-ad3d-d8d84f2868bd",
   "metadata": {},
   "outputs": [
    {
     "data": {
      "text/plain": [
       "'/ControlNet'"
      ]
     },
     "execution_count": 12,
     "metadata": {},
     "output_type": "execute_result"
    }
   ],
   "source": [
    "os.chdir('/ControlNet')\n",
    "os.getcwd()"
   ]
  },
  {
   "cell_type": "code",
   "execution_count": 13,
   "id": "9fd331eb-06d7-4085-955c-62247ca48971",
   "metadata": {},
   "outputs": [],
   "source": [
    "import pytorch_lightning as pl\n",
    "from torch.utils.data import DataLoader\n",
    "from tutorial_dataset import MyDataset\n",
    "from cldm.logger import ImageLogger"
   ]
  },
  {
   "cell_type": "code",
   "execution_count": 14,
   "id": "1a002d95-b2e8-4565-93e8-f699a9da5b1f",
   "metadata": {},
   "outputs": [],
   "source": [
    "from cldm.model import create_model, load_state_dict"
   ]
  },
  {
   "cell_type": "code",
   "execution_count": 15,
   "id": "cc542265-6566-4fa5-89b2-6ffbf13a0112",
   "metadata": {},
   "outputs": [
    {
     "name": "stdout",
     "output_type": "stream",
     "text": [
      "create_model-config : {'model': {'target': 'cldm.cldm.ControlLDM', 'params': {'linear_start': 0.00085, 'linear_end': 0.012, 'num_timesteps_cond': 1, 'log_every_t': 200, 'timesteps': 1000, 'first_stage_key': 'jpg', 'cond_stage_key': 'txt', 'control_key': 'hint', 'image_size': 64, 'channels': 4, 'cond_stage_trainable': False, 'conditioning_key': 'crossattn', 'monitor': 'val/loss_simple_ema', 'scale_factor': 0.18215, 'use_ema': False, 'only_mid_control': False, 'control_stage_config': {'target': 'cldm.cldm.ControlNet', 'params': {'use_checkpoint': True, 'image_size': 32, 'in_channels': 4, 'hint_channels': 3, 'model_channels': 320, 'attention_resolutions': [4, 2, 1], 'num_res_blocks': 2, 'channel_mult': [1, 2, 4, 4], 'num_head_channels': 64, 'use_spatial_transformer': True, 'use_linear_in_transformer': True, 'transformer_depth': 1, 'context_dim': 1024, 'legacy': False}}, 'unet_config': {'target': 'cldm.cldm.ControlledUnetModel', 'params': {'use_checkpoint': True, 'image_size': 32, 'in_channels': 4, 'out_channels': 4, 'model_channels': 320, 'attention_resolutions': [4, 2, 1], 'num_res_blocks': 2, 'channel_mult': [1, 2, 4, 4], 'num_head_channels': 64, 'use_spatial_transformer': True, 'use_linear_in_transformer': True, 'transformer_depth': 1, 'context_dim': 1024, 'legacy': False}}, 'first_stage_config': {'target': 'ldm.models.autoencoder.AutoencoderKL', 'params': {'embed_dim': 4, 'monitor': 'val/rec_loss', 'ddconfig': {'double_z': True, 'z_channels': 4, 'resolution': 256, 'in_channels': 3, 'out_ch': 3, 'ch': 128, 'ch_mult': [1, 2, 4, 4], 'num_res_blocks': 2, 'attn_resolutions': [], 'dropout': 0.0}, 'lossconfig': {'target': 'torch.nn.Identity'}}}, 'cond_stage_config': {'target': 'ldm.modules.encoders.modules.FrozenOpenCLIPEmbedder', 'params': {'freeze': True, 'layer': 'penultimate'}}}}}\n",
      "ControlLDM: Running in eps-prediction mode\n",
      "Setting up MemoryEfficientCrossAttention. Query dim is 320, context_dim is None and using 5 heads.\n",
      "Setting up MemoryEfficientCrossAttention. Query dim is 320, context_dim is 1024 and using 5 heads.\n",
      "Setting up MemoryEfficientCrossAttention. Query dim is 320, context_dim is None and using 5 heads.\n",
      "Setting up MemoryEfficientCrossAttention. Query dim is 320, context_dim is 1024 and using 5 heads.\n",
      "Setting up MemoryEfficientCrossAttention. Query dim is 640, context_dim is None and using 10 heads.\n",
      "Setting up MemoryEfficientCrossAttention. Query dim is 640, context_dim is 1024 and using 10 heads.\n",
      "Setting up MemoryEfficientCrossAttention. Query dim is 640, context_dim is None and using 10 heads.\n",
      "Setting up MemoryEfficientCrossAttention. Query dim is 640, context_dim is 1024 and using 10 heads.\n",
      "Setting up MemoryEfficientCrossAttention. Query dim is 1280, context_dim is None and using 20 heads.\n",
      "Setting up MemoryEfficientCrossAttention. Query dim is 1280, context_dim is 1024 and using 20 heads.\n",
      "Setting up MemoryEfficientCrossAttention. Query dim is 1280, context_dim is None and using 20 heads.\n",
      "Setting up MemoryEfficientCrossAttention. Query dim is 1280, context_dim is 1024 and using 20 heads.\n",
      "Setting up MemoryEfficientCrossAttention. Query dim is 1280, context_dim is None and using 20 heads.\n",
      "Setting up MemoryEfficientCrossAttention. Query dim is 1280, context_dim is 1024 and using 20 heads.\n",
      "Setting up MemoryEfficientCrossAttention. Query dim is 1280, context_dim is None and using 20 heads.\n",
      "Setting up MemoryEfficientCrossAttention. Query dim is 1280, context_dim is 1024 and using 20 heads.\n",
      "Setting up MemoryEfficientCrossAttention. Query dim is 1280, context_dim is None and using 20 heads.\n",
      "Setting up MemoryEfficientCrossAttention. Query dim is 1280, context_dim is 1024 and using 20 heads.\n",
      "Setting up MemoryEfficientCrossAttention. Query dim is 1280, context_dim is None and using 20 heads.\n",
      "Setting up MemoryEfficientCrossAttention. Query dim is 1280, context_dim is 1024 and using 20 heads.\n",
      "Setting up MemoryEfficientCrossAttention. Query dim is 640, context_dim is None and using 10 heads.\n",
      "Setting up MemoryEfficientCrossAttention. Query dim is 640, context_dim is 1024 and using 10 heads.\n",
      "Setting up MemoryEfficientCrossAttention. Query dim is 640, context_dim is None and using 10 heads.\n",
      "Setting up MemoryEfficientCrossAttention. Query dim is 640, context_dim is 1024 and using 10 heads.\n",
      "Setting up MemoryEfficientCrossAttention. Query dim is 640, context_dim is None and using 10 heads.\n",
      "Setting up MemoryEfficientCrossAttention. Query dim is 640, context_dim is 1024 and using 10 heads.\n",
      "Setting up MemoryEfficientCrossAttention. Query dim is 320, context_dim is None and using 5 heads.\n",
      "Setting up MemoryEfficientCrossAttention. Query dim is 320, context_dim is 1024 and using 5 heads.\n",
      "Setting up MemoryEfficientCrossAttention. Query dim is 320, context_dim is None and using 5 heads.\n",
      "Setting up MemoryEfficientCrossAttention. Query dim is 320, context_dim is 1024 and using 5 heads.\n",
      "Setting up MemoryEfficientCrossAttention. Query dim is 320, context_dim is None and using 5 heads.\n",
      "Setting up MemoryEfficientCrossAttention. Query dim is 320, context_dim is 1024 and using 5 heads.\n",
      "DiffusionWrapper has 865.91 M params.\n",
      "making attention of type 'vanilla-xformers' with 512 in_channels\n",
      "building MemoryEfficientAttnBlock with 512 in_channels...\n",
      "Working with z of shape (1, 4, 32, 32) = 4096 dimensions.\n",
      "making attention of type 'vanilla-xformers' with 512 in_channels\n",
      "building MemoryEfficientAttnBlock with 512 in_channels...\n",
      "Setting up MemoryEfficientCrossAttention. Query dim is 320, context_dim is None and using 5 heads.\n",
      "Setting up MemoryEfficientCrossAttention. Query dim is 320, context_dim is 1024 and using 5 heads.\n",
      "Setting up MemoryEfficientCrossAttention. Query dim is 320, context_dim is None and using 5 heads.\n",
      "Setting up MemoryEfficientCrossAttention. Query dim is 320, context_dim is 1024 and using 5 heads.\n",
      "Setting up MemoryEfficientCrossAttention. Query dim is 640, context_dim is None and using 10 heads.\n",
      "Setting up MemoryEfficientCrossAttention. Query dim is 640, context_dim is 1024 and using 10 heads.\n",
      "Setting up MemoryEfficientCrossAttention. Query dim is 640, context_dim is None and using 10 heads.\n",
      "Setting up MemoryEfficientCrossAttention. Query dim is 640, context_dim is 1024 and using 10 heads.\n",
      "Setting up MemoryEfficientCrossAttention. Query dim is 1280, context_dim is None and using 20 heads.\n",
      "Setting up MemoryEfficientCrossAttention. Query dim is 1280, context_dim is 1024 and using 20 heads.\n",
      "Setting up MemoryEfficientCrossAttention. Query dim is 1280, context_dim is None and using 20 heads.\n",
      "Setting up MemoryEfficientCrossAttention. Query dim is 1280, context_dim is 1024 and using 20 heads.\n",
      "Setting up MemoryEfficientCrossAttention. Query dim is 1280, context_dim is None and using 20 heads.\n",
      "Setting up MemoryEfficientCrossAttention. Query dim is 1280, context_dim is 1024 and using 20 heads.\n",
      "Loaded model config from [./models/cldm_v21.yaml]\n"
     ]
    }
   ],
   "source": [
    "resume_path = '/models/control_sd21_ini.ckpt'\n",
    "batch_size = 2\n",
    "logger_freq = 300\n",
    "learning_rate = 1e-5\n",
    "sd_locked = True\n",
    "only_mid_control = False\n",
    "# First use cpu to load models. Pytorch Lightning will automatically move it to GPUs.\n",
    "model = create_model('./models/cldm_v21.yaml').cpu()"
   ]
  },
  {
   "cell_type": "code",
   "execution_count": 16,
   "id": "ba9e5018-7b0e-4a7d-9d3e-6d5ed366ab48",
   "metadata": {},
   "outputs": [
    {
     "name": "stdout",
     "output_type": "stream",
     "text": [
      "Loaded state_dict from [/models/control_sd21_ini.ckpt]\n"
     ]
    }
   ],
   "source": [
    "model.load_state_dict(load_state_dict(resume_path, location='cpu'))\n",
    "model.learning_rate = learning_rate\n",
    "model.sd_locked = sd_locked\n",
    "model.only_mid_control = only_mid_control"
   ]
  },
  {
   "cell_type": "code",
   "execution_count": 17,
   "id": "5bdca607-397e-4b17-88e7-a09ebdbf6cfb",
   "metadata": {},
   "outputs": [
    {
     "name": "stderr",
     "output_type": "stream",
     "text": [
      "GPU available: True (cuda), used: True\n",
      "TPU available: False, using: 0 TPU cores\n",
      "IPU available: False, using: 0 IPUs\n",
      "HPU available: False, using: 0 HPUs\n",
      "/opt/conda/lib/python3.10/site-packages/pytorch_lightning/trainer/connectors/logger_connector/logger_connector.py:75: Starting from v1.9.0, `tensorboardX` has been removed as a dependency of the `pytorch_lightning` package, due to potential conflicts with other packages in the ML ecosystem. For this reason, `logger=True` will use `CSVLogger` as the default logger, unless the `tensorboard` or `tensorboardX` packages are found. Please `pip install lightning[extra]` or one of them to enable TensorBoard support by default\n"
     ]
    }
   ],
   "source": [
    "batch_size = 4\n",
    "dataloader = DataLoader(dataset, num_workers=0, batch_size=batch_size, shuffle=True)\n",
    "logger = ImageLogger(batch_frequency=logger_freq)\n",
    "trainer = pl.Trainer(accelerator=\"auto\", precision=32, callbacks=[logger], max_epochs=1)"
   ]
  },
  {
   "cell_type": "code",
   "execution_count": 18,
   "id": "533b15d9-a33e-4117-a4ba-89ec157612a6",
   "metadata": {},
   "outputs": [
    {
     "name": "stderr",
     "output_type": "stream",
     "text": [
      "/opt/conda/lib/python3.10/site-packages/pytorch_lightning/trainer/configuration_validator.py:74: You defined a `validation_step` but have no `val_dataloader`. Skipping val loop.\n",
      "You are using a CUDA device ('NVIDIA RTX A6000') that has Tensor Cores. To properly utilize them, you should set `torch.set_float32_matmul_precision('medium' | 'high')` which will trade-off precision for performance. For more details, read https://pytorch.org/docs/stable/generated/torch.set_float32_matmul_precision.html#torch.set_float32_matmul_precision\n",
      "Missing logger folder: /ControlNet/lightning_logs\n",
      "LOCAL_RANK: 0 - CUDA_VISIBLE_DEVICES: [0]\n",
      "\n",
      "  | Name              | Type                   | Params\n",
      "-------------------------------------------------------------\n",
      "0 | model             | DiffusionWrapper       | 865 M \n",
      "1 | first_stage_model | AutoencoderKL          | 83.7 M\n",
      "2 | cond_stage_model  | FrozenOpenCLIPEmbedder | 354 M \n",
      "3 | control_model     | ControlNet             | 364 M \n",
      "-------------------------------------------------------------\n",
      "1.2 B     Trainable params\n",
      "437 M     Non-trainable params\n",
      "1.7 B     Total params\n",
      "6,671.302 Total estimated model params size (MB)\n",
      "/opt/conda/lib/python3.10/site-packages/pytorch_lightning/trainer/connectors/data_connector.py:441: The 'train_dataloader' does not have many workers which may be a bottleneck. Consider increasing the value of the `num_workers` argument` to `num_workers=63` in the `DataLoader` to improve performance.\n"
     ]
    },
    {
     "data": {
      "application/vnd.jupyter.widget-view+json": {
       "model_id": "737ef1c946d944e38abf83b029f0a1e6",
       "version_major": 2,
       "version_minor": 0
      },
      "text/plain": [
       "Training: |          | 0/? [00:00<?, ?it/s]"
      ]
     },
     "metadata": {},
     "output_type": "display_data"
    },
    {
     "name": "stderr",
     "output_type": "stream",
     "text": [
      "/opt/conda/lib/python3.10/site-packages/pytorch_lightning/utilities/data.py:77: Trying to infer the `batch_size` from an ambiguous collection. The batch size we found is 4. To avoid any miscalculations, use `self.log(..., batch_size=batch_size)`.\n"
     ]
    },
    {
     "name": "stdout",
     "output_type": "stream",
     "text": [
      "Data shape for DDIM sampling is (4, 4, 64, 64), eta 0.0\n",
      "Running DDIM Sampling with 50 timesteps\n"
     ]
    },
    {
     "name": "stderr",
     "output_type": "stream",
     "text": [
      "\n",
      "DDIM Sampler:   0%|          | 0/50 [00:00<?, ?it/s]\u001b[A\n",
      "DDIM Sampler:   2%|▏         | 1/50 [00:00<00:30,  1.58it/s]\u001b[A\n",
      "DDIM Sampler:   4%|▍         | 2/50 [00:01<00:26,  1.82it/s]\u001b[A\n",
      "DDIM Sampler:   6%|▌         | 3/50 [00:01<00:24,  1.92it/s]\u001b[A\n",
      "DDIM Sampler:   8%|▊         | 4/50 [00:02<00:23,  1.96it/s]\u001b[A\n",
      "DDIM Sampler:  10%|█         | 5/50 [00:02<00:22,  1.99it/s]\u001b[A\n",
      "DDIM Sampler:  12%|█▏        | 6/50 [00:03<00:21,  2.01it/s]\u001b[A\n",
      "DDIM Sampler:  14%|█▍        | 7/50 [00:03<00:21,  2.02it/s]\u001b[A\n",
      "DDIM Sampler:  16%|█▌        | 8/50 [00:04<00:20,  2.02it/s]\u001b[A\n",
      "DDIM Sampler:  18%|█▊        | 9/50 [00:04<00:20,  2.03it/s]\u001b[A\n",
      "DDIM Sampler:  20%|██        | 10/50 [00:05<00:19,  2.03it/s]\u001b[A\n",
      "DDIM Sampler:  22%|██▏       | 11/50 [00:05<00:19,  2.03it/s]\u001b[A\n",
      "DDIM Sampler:  24%|██▍       | 12/50 [00:06<00:18,  2.03it/s]\u001b[A\n",
      "DDIM Sampler:  26%|██▌       | 13/50 [00:06<00:18,  2.04it/s]\u001b[A\n",
      "DDIM Sampler:  28%|██▊       | 14/50 [00:07<00:17,  2.04it/s]\u001b[A\n",
      "DDIM Sampler:  30%|███       | 15/50 [00:07<00:17,  2.04it/s]\u001b[A\n",
      "DDIM Sampler:  32%|███▏      | 16/50 [00:07<00:16,  2.04it/s]\u001b[A\n",
      "DDIM Sampler:  34%|███▍      | 17/50 [00:08<00:16,  2.04it/s]\u001b[A\n",
      "DDIM Sampler:  36%|███▌      | 18/50 [00:08<00:15,  2.04it/s]\u001b[A\n",
      "DDIM Sampler:  38%|███▊      | 19/50 [00:09<00:15,  2.04it/s]\u001b[A\n",
      "DDIM Sampler:  40%|████      | 20/50 [00:09<00:14,  2.04it/s]\u001b[A\n",
      "DDIM Sampler:  42%|████▏     | 21/50 [00:10<00:14,  2.04it/s]\u001b[A\n",
      "DDIM Sampler:  44%|████▍     | 22/50 [00:10<00:13,  2.04it/s]\u001b[A\n",
      "DDIM Sampler:  46%|████▌     | 23/50 [00:11<00:13,  2.03it/s]\u001b[A\n",
      "DDIM Sampler:  48%|████▊     | 24/50 [00:11<00:12,  2.03it/s]\u001b[A\n",
      "DDIM Sampler:  50%|█████     | 25/50 [00:12<00:12,  2.03it/s]\u001b[A\n",
      "DDIM Sampler:  52%|█████▏    | 26/50 [00:12<00:11,  2.03it/s]\u001b[A\n",
      "DDIM Sampler:  54%|█████▍    | 27/50 [00:13<00:11,  2.03it/s]\u001b[A\n",
      "DDIM Sampler:  56%|█████▌    | 28/50 [00:13<00:10,  2.03it/s]\u001b[A\n",
      "DDIM Sampler:  58%|█████▊    | 29/50 [00:14<00:10,  2.03it/s]\u001b[A\n",
      "DDIM Sampler:  60%|██████    | 30/50 [00:14<00:09,  2.03it/s]\u001b[A\n",
      "DDIM Sampler:  62%|██████▏   | 31/50 [00:15<00:09,  2.03it/s]\u001b[A\n",
      "DDIM Sampler:  64%|██████▍   | 32/50 [00:15<00:08,  2.03it/s]\u001b[A\n",
      "DDIM Sampler:  66%|██████▌   | 33/50 [00:16<00:08,  2.03it/s]\u001b[A\n",
      "DDIM Sampler:  68%|██████▊   | 34/50 [00:16<00:07,  2.03it/s]\u001b[A\n",
      "DDIM Sampler:  70%|███████   | 35/50 [00:17<00:07,  2.03it/s]\u001b[A\n",
      "DDIM Sampler:  72%|███████▏  | 36/50 [00:17<00:06,  2.03it/s]\u001b[A\n",
      "DDIM Sampler:  74%|███████▍  | 37/50 [00:18<00:06,  2.03it/s]\u001b[A\n",
      "DDIM Sampler:  76%|███████▌  | 38/50 [00:18<00:05,  2.02it/s]\u001b[A\n",
      "DDIM Sampler:  78%|███████▊  | 39/50 [00:19<00:05,  2.02it/s]\u001b[A\n",
      "DDIM Sampler:  80%|████████  | 40/50 [00:19<00:04,  2.01it/s]\u001b[A\n",
      "DDIM Sampler:  82%|████████▏ | 41/50 [00:20<00:04,  2.01it/s]\u001b[A\n",
      "DDIM Sampler:  84%|████████▍ | 42/50 [00:20<00:03,  2.00it/s]\u001b[A\n",
      "DDIM Sampler:  86%|████████▌ | 43/50 [00:21<00:03,  2.01it/s]\u001b[A\n",
      "DDIM Sampler:  88%|████████▊ | 44/50 [00:21<00:02,  2.01it/s]\u001b[A\n",
      "DDIM Sampler:  90%|█████████ | 45/50 [00:22<00:02,  2.01it/s]\u001b[A\n",
      "DDIM Sampler:  92%|█████████▏| 46/50 [00:22<00:01,  2.02it/s]\u001b[A\n",
      "DDIM Sampler:  94%|█████████▍| 47/50 [00:23<00:01,  2.02it/s]\u001b[A\n",
      "DDIM Sampler:  96%|█████████▌| 48/50 [00:23<00:00,  2.02it/s]\u001b[A\n",
      "DDIM Sampler:  98%|█████████▊| 49/50 [00:24<00:00,  2.02it/s]\u001b[A\n",
      "DDIM Sampler: 100%|██████████| 50/50 [00:24<00:00,  2.02it/s]\u001b[A\n"
     ]
    },
    {
     "name": "stdout",
     "output_type": "stream",
     "text": [
      "Data shape for DDIM sampling is (4, 4, 64, 64), eta 0.0\n",
      "Running DDIM Sampling with 50 timesteps\n"
     ]
    },
    {
     "name": "stderr",
     "output_type": "stream",
     "text": [
      "\n",
      "DDIM Sampler:   0%|          | 0/50 [00:00<?, ?it/s]\u001b[A\n",
      "DDIM Sampler:   2%|▏         | 1/50 [00:00<00:24,  2.02it/s]\u001b[A\n",
      "DDIM Sampler:   4%|▍         | 2/50 [00:00<00:23,  2.01it/s]\u001b[A\n",
      "DDIM Sampler:   6%|▌         | 3/50 [00:01<00:23,  2.01it/s]\u001b[A\n",
      "DDIM Sampler:   8%|▊         | 4/50 [00:01<00:22,  2.00it/s]\u001b[A\n",
      "DDIM Sampler:  10%|█         | 5/50 [00:02<00:22,  2.00it/s]\u001b[A\n",
      "DDIM Sampler:  12%|█▏        | 6/50 [00:02<00:21,  2.00it/s]\u001b[A\n",
      "DDIM Sampler:  14%|█▍        | 7/50 [00:03<00:21,  2.00it/s]\u001b[A\n",
      "DDIM Sampler:  16%|█▌        | 8/50 [00:03<00:20,  2.00it/s]\u001b[A\n",
      "DDIM Sampler:  18%|█▊        | 9/50 [00:04<00:20,  2.00it/s]\u001b[A\n",
      "DDIM Sampler:  20%|██        | 10/50 [00:04<00:19,  2.01it/s]\u001b[A\n",
      "DDIM Sampler:  22%|██▏       | 11/50 [00:05<00:19,  2.00it/s]\u001b[A\n",
      "DDIM Sampler:  24%|██▍       | 12/50 [00:05<00:18,  2.00it/s]\u001b[A\n",
      "DDIM Sampler:  26%|██▌       | 13/50 [00:06<00:18,  2.00it/s]\u001b[A\n",
      "DDIM Sampler:  28%|██▊       | 14/50 [00:06<00:17,  2.00it/s]\u001b[A\n",
      "DDIM Sampler:  30%|███       | 15/50 [00:07<00:17,  2.01it/s]\u001b[A\n",
      "DDIM Sampler:  32%|███▏      | 16/50 [00:07<00:16,  2.01it/s]\u001b[A\n",
      "DDIM Sampler:  34%|███▍      | 17/50 [00:08<00:16,  2.00it/s]\u001b[A\n",
      "DDIM Sampler:  36%|███▌      | 18/50 [00:08<00:15,  2.00it/s]\u001b[A\n",
      "DDIM Sampler:  38%|███▊      | 19/50 [00:09<00:15,  2.00it/s]\u001b[A\n",
      "DDIM Sampler:  40%|████      | 20/50 [00:09<00:15,  2.00it/s]\u001b[A\n",
      "DDIM Sampler:  42%|████▏     | 21/50 [00:10<00:14,  2.00it/s]\u001b[A\n",
      "DDIM Sampler:  44%|████▍     | 22/50 [00:10<00:14,  2.00it/s]\u001b[A\n",
      "DDIM Sampler:  46%|████▌     | 23/50 [00:11<00:13,  1.99it/s]\u001b[A\n",
      "DDIM Sampler:  48%|████▊     | 24/50 [00:11<00:13,  2.00it/s]\u001b[A\n",
      "DDIM Sampler:  50%|█████     | 25/50 [00:12<00:12,  2.00it/s]\u001b[A\n",
      "DDIM Sampler:  52%|█████▏    | 26/50 [00:12<00:11,  2.00it/s]\u001b[A\n",
      "DDIM Sampler:  54%|█████▍    | 27/50 [00:13<00:11,  2.01it/s]\u001b[A\n",
      "DDIM Sampler:  56%|█████▌    | 28/50 [00:13<00:10,  2.01it/s]\u001b[A\n",
      "DDIM Sampler:  58%|█████▊    | 29/50 [00:14<00:10,  2.01it/s]\u001b[A\n",
      "DDIM Sampler:  60%|██████    | 30/50 [00:14<00:09,  2.01it/s]\u001b[A\n",
      "DDIM Sampler:  62%|██████▏   | 31/50 [00:15<00:09,  2.01it/s]\u001b[A\n",
      "DDIM Sampler:  64%|██████▍   | 32/50 [00:15<00:08,  2.01it/s]\u001b[A\n",
      "DDIM Sampler:  66%|██████▌   | 33/50 [00:16<00:08,  2.01it/s]\u001b[A\n",
      "DDIM Sampler:  68%|██████▊   | 34/50 [00:16<00:07,  2.01it/s]\u001b[A\n",
      "DDIM Sampler:  70%|███████   | 35/50 [00:17<00:07,  2.01it/s]\u001b[A\n",
      "DDIM Sampler:  72%|███████▏  | 36/50 [00:17<00:06,  2.01it/s]\u001b[A\n",
      "DDIM Sampler:  74%|███████▍  | 37/50 [00:18<00:06,  2.01it/s]\u001b[A\n",
      "DDIM Sampler:  76%|███████▌  | 38/50 [00:18<00:05,  2.01it/s]\u001b[A\n",
      "DDIM Sampler:  78%|███████▊  | 39/50 [00:19<00:05,  2.01it/s]\u001b[A\n",
      "DDIM Sampler:  80%|████████  | 40/50 [00:19<00:04,  2.01it/s]\u001b[A\n",
      "DDIM Sampler:  82%|████████▏ | 41/50 [00:20<00:04,  2.01it/s]\u001b[A\n",
      "DDIM Sampler:  84%|████████▍ | 42/50 [00:20<00:03,  2.01it/s]\u001b[A\n",
      "DDIM Sampler:  86%|████████▌ | 43/50 [00:21<00:03,  2.01it/s]\u001b[A\n",
      "DDIM Sampler:  88%|████████▊ | 44/50 [00:21<00:02,  2.01it/s]\u001b[A\n",
      "DDIM Sampler:  90%|█████████ | 45/50 [00:22<00:02,  2.01it/s]\u001b[A\n",
      "DDIM Sampler:  92%|█████████▏| 46/50 [00:22<00:01,  2.01it/s]\u001b[A\n",
      "DDIM Sampler:  94%|█████████▍| 47/50 [00:23<00:01,  2.01it/s]\u001b[A\n",
      "DDIM Sampler:  96%|█████████▌| 48/50 [00:23<00:00,  2.01it/s]\u001b[A\n",
      "DDIM Sampler:  98%|█████████▊| 49/50 [00:24<00:00,  2.01it/s]\u001b[A\n",
      "DDIM Sampler: 100%|██████████| 50/50 [00:24<00:00,  2.01it/s]\u001b[A\n"
     ]
    },
    {
     "name": "stdout",
     "output_type": "stream",
     "text": [
      "Data shape for DDIM sampling is (4, 4, 64, 64), eta 0.0\n",
      "Running DDIM Sampling with 50 timesteps\n"
     ]
    },
    {
     "name": "stderr",
     "output_type": "stream",
     "text": [
      "\n",
      "DDIM Sampler:   0%|          | 0/50 [00:00<?, ?it/s]\u001b[A\n",
      "DDIM Sampler:   2%|▏         | 1/50 [00:00<00:24,  2.04it/s]\u001b[A\n",
      "DDIM Sampler:   4%|▍         | 2/50 [00:00<00:23,  2.02it/s]\u001b[A\n",
      "DDIM Sampler:   6%|▌         | 3/50 [00:01<00:23,  2.02it/s]\u001b[A\n",
      "DDIM Sampler:   8%|▊         | 4/50 [00:01<00:22,  2.01it/s]\u001b[A\n",
      "DDIM Sampler:  10%|█         | 5/50 [00:02<00:22,  2.01it/s]\u001b[A\n",
      "DDIM Sampler:  12%|█▏        | 6/50 [00:02<00:21,  2.01it/s]\u001b[A\n",
      "DDIM Sampler:  14%|█▍        | 7/50 [00:03<00:21,  2.01it/s]\u001b[A\n",
      "DDIM Sampler:  16%|█▌        | 8/50 [00:03<00:20,  2.01it/s]\u001b[A\n",
      "DDIM Sampler:  18%|█▊        | 9/50 [00:04<00:20,  2.01it/s]\u001b[A\n",
      "DDIM Sampler:  20%|██        | 10/50 [00:04<00:19,  2.01it/s]\u001b[A\n",
      "DDIM Sampler:  22%|██▏       | 11/50 [00:05<00:19,  2.01it/s]\u001b[A\n",
      "DDIM Sampler:  24%|██▍       | 12/50 [00:05<00:18,  2.01it/s]\u001b[A\n",
      "DDIM Sampler:  26%|██▌       | 13/50 [00:06<00:18,  2.01it/s]\u001b[A\n",
      "DDIM Sampler:  28%|██▊       | 14/50 [00:06<00:17,  2.01it/s]\u001b[A\n",
      "DDIM Sampler:  30%|███       | 15/50 [00:07<00:17,  2.01it/s]\u001b[A\n",
      "DDIM Sampler:  32%|███▏      | 16/50 [00:07<00:16,  2.01it/s]\u001b[A\n",
      "DDIM Sampler:  34%|███▍      | 17/50 [00:08<00:16,  2.02it/s]\u001b[A\n",
      "DDIM Sampler:  36%|███▌      | 18/50 [00:08<00:15,  2.01it/s]\u001b[A\n",
      "DDIM Sampler:  38%|███▊      | 19/50 [00:09<00:15,  2.01it/s]\u001b[A\n",
      "DDIM Sampler:  40%|████      | 20/50 [00:09<00:14,  2.01it/s]\u001b[A\n",
      "DDIM Sampler:  42%|████▏     | 21/50 [00:10<00:14,  2.01it/s]\u001b[A\n",
      "DDIM Sampler:  44%|████▍     | 22/50 [00:10<00:13,  2.01it/s]\u001b[A\n",
      "DDIM Sampler:  46%|████▌     | 23/50 [00:11<00:13,  2.01it/s]\u001b[A\n",
      "DDIM Sampler:  48%|████▊     | 24/50 [00:11<00:12,  2.01it/s]\u001b[A\n",
      "DDIM Sampler:  50%|█████     | 25/50 [00:12<00:12,  2.01it/s]\u001b[A\n",
      "DDIM Sampler:  52%|█████▏    | 26/50 [00:12<00:11,  2.01it/s]\u001b[A\n",
      "DDIM Sampler:  54%|█████▍    | 27/50 [00:13<00:11,  2.01it/s]\u001b[A\n",
      "DDIM Sampler:  56%|█████▌    | 28/50 [00:13<00:10,  2.01it/s]\u001b[A\n",
      "DDIM Sampler:  58%|█████▊    | 29/50 [00:14<00:10,  2.02it/s]\u001b[A\n",
      "DDIM Sampler:  60%|██████    | 30/50 [00:14<00:09,  2.01it/s]\u001b[A\n",
      "DDIM Sampler:  62%|██████▏   | 31/50 [00:15<00:09,  2.02it/s]\u001b[A\n",
      "DDIM Sampler:  64%|██████▍   | 32/50 [00:15<00:08,  2.02it/s]\u001b[A\n",
      "DDIM Sampler:  66%|██████▌   | 33/50 [00:16<00:08,  2.01it/s]\u001b[A\n",
      "DDIM Sampler:  68%|██████▊   | 34/50 [00:16<00:07,  2.02it/s]\u001b[A\n",
      "DDIM Sampler:  70%|███████   | 35/50 [00:17<00:07,  2.01it/s]\u001b[A\n",
      "DDIM Sampler:  72%|███████▏  | 36/50 [00:17<00:06,  2.01it/s]\u001b[A\n",
      "DDIM Sampler:  74%|███████▍  | 37/50 [00:18<00:06,  2.01it/s]\u001b[A\n",
      "DDIM Sampler:  76%|███████▌  | 38/50 [00:18<00:05,  2.01it/s]\u001b[A\n",
      "DDIM Sampler:  78%|███████▊  | 39/50 [00:19<00:05,  2.01it/s]\u001b[A\n",
      "DDIM Sampler:  80%|████████  | 40/50 [00:19<00:04,  2.00it/s]\u001b[A\n",
      "DDIM Sampler:  82%|████████▏ | 41/50 [00:20<00:04,  2.00it/s]\u001b[A\n",
      "DDIM Sampler:  84%|████████▍ | 42/50 [00:20<00:03,  2.00it/s]\u001b[A\n",
      "DDIM Sampler:  86%|████████▌ | 43/50 [00:21<00:03,  2.01it/s]\u001b[A\n",
      "DDIM Sampler:  88%|████████▊ | 44/50 [00:21<00:02,  2.01it/s]\u001b[A\n",
      "DDIM Sampler:  90%|█████████ | 45/50 [00:22<00:02,  2.01it/s]\u001b[A\n",
      "DDIM Sampler:  92%|█████████▏| 46/50 [00:22<00:01,  2.01it/s]\u001b[A\n",
      "DDIM Sampler:  94%|█████████▍| 47/50 [00:23<00:01,  2.01it/s]\u001b[A\n",
      "DDIM Sampler:  96%|█████████▌| 48/50 [00:23<00:00,  2.01it/s]\u001b[A\n",
      "DDIM Sampler:  98%|█████████▊| 49/50 [00:24<00:00,  2.01it/s]\u001b[A\n",
      "DDIM Sampler: 100%|██████████| 50/50 [00:24<00:00,  2.01it/s]\u001b[A\n"
     ]
    },
    {
     "name": "stdout",
     "output_type": "stream",
     "text": [
      "Data shape for DDIM sampling is (4, 4, 64, 64), eta 0.0\n",
      "Running DDIM Sampling with 50 timesteps\n"
     ]
    },
    {
     "name": "stderr",
     "output_type": "stream",
     "text": [
      "\n",
      "DDIM Sampler:   0%|          | 0/50 [00:00<?, ?it/s]\u001b[A\n",
      "DDIM Sampler:   2%|▏         | 1/50 [00:00<00:24,  2.03it/s]\u001b[A\n",
      "DDIM Sampler:   4%|▍         | 2/50 [00:00<00:23,  2.02it/s]\u001b[A\n",
      "DDIM Sampler:   6%|▌         | 3/50 [00:01<00:23,  2.01it/s]\u001b[A\n",
      "DDIM Sampler:   8%|▊         | 4/50 [00:01<00:22,  2.01it/s]\u001b[A\n",
      "DDIM Sampler:  10%|█         | 5/50 [00:02<00:22,  2.01it/s]\u001b[A\n",
      "DDIM Sampler:  12%|█▏        | 6/50 [00:02<00:21,  2.01it/s]\u001b[A\n",
      "DDIM Sampler:  14%|█▍        | 7/50 [00:03<00:21,  2.01it/s]\u001b[A\n",
      "DDIM Sampler:  16%|█▌        | 8/50 [00:03<00:20,  2.01it/s]\u001b[A\n",
      "DDIM Sampler:  18%|█▊        | 9/50 [00:04<00:20,  2.01it/s]\u001b[A\n",
      "DDIM Sampler:  20%|██        | 10/50 [00:04<00:19,  2.01it/s]\u001b[A\n",
      "DDIM Sampler:  22%|██▏       | 11/50 [00:05<00:19,  2.01it/s]\u001b[A\n",
      "DDIM Sampler:  24%|██▍       | 12/50 [00:05<00:18,  2.01it/s]\u001b[A\n",
      "DDIM Sampler:  26%|██▌       | 13/50 [00:06<00:18,  2.01it/s]\u001b[A\n",
      "DDIM Sampler:  28%|██▊       | 14/50 [00:06<00:17,  2.01it/s]\u001b[A\n",
      "DDIM Sampler:  30%|███       | 15/50 [00:07<00:17,  2.01it/s]\u001b[A\n",
      "DDIM Sampler:  32%|███▏      | 16/50 [00:07<00:16,  2.01it/s]\u001b[A\n",
      "DDIM Sampler:  34%|███▍      | 17/50 [00:08<00:16,  2.01it/s]\u001b[A\n",
      "DDIM Sampler:  36%|███▌      | 18/50 [00:08<00:15,  2.01it/s]\u001b[A\n",
      "DDIM Sampler:  38%|███▊      | 19/50 [00:09<00:15,  2.01it/s]\u001b[A\n",
      "DDIM Sampler:  40%|████      | 20/50 [00:09<00:14,  2.01it/s]\u001b[A\n",
      "DDIM Sampler:  42%|████▏     | 21/50 [00:10<00:14,  2.02it/s]\u001b[A\n",
      "DDIM Sampler:  44%|████▍     | 22/50 [00:10<00:13,  2.02it/s]\u001b[A\n",
      "DDIM Sampler:  46%|████▌     | 23/50 [00:11<00:13,  2.02it/s]\u001b[A\n",
      "DDIM Sampler:  48%|████▊     | 24/50 [00:11<00:12,  2.01it/s]\u001b[A\n",
      "DDIM Sampler:  50%|█████     | 25/50 [00:12<00:12,  2.01it/s]\u001b[A\n",
      "DDIM Sampler:  52%|█████▏    | 26/50 [00:12<00:11,  2.01it/s]\u001b[A\n",
      "DDIM Sampler:  54%|█████▍    | 27/50 [00:13<00:11,  2.01it/s]\u001b[A\n",
      "DDIM Sampler:  56%|█████▌    | 28/50 [00:13<00:10,  2.01it/s]\u001b[A\n",
      "DDIM Sampler:  58%|█████▊    | 29/50 [00:14<00:10,  2.01it/s]\u001b[A\n",
      "DDIM Sampler:  60%|██████    | 30/50 [00:14<00:09,  2.01it/s]\u001b[A\n",
      "DDIM Sampler:  62%|██████▏   | 31/50 [00:15<00:09,  2.01it/s]\u001b[A\n",
      "DDIM Sampler:  64%|██████▍   | 32/50 [00:15<00:08,  2.01it/s]\u001b[A\n",
      "DDIM Sampler:  66%|██████▌   | 33/50 [00:16<00:08,  2.01it/s]\u001b[A\n",
      "DDIM Sampler:  68%|██████▊   | 34/50 [00:16<00:07,  2.01it/s]\u001b[A\n",
      "DDIM Sampler:  70%|███████   | 35/50 [00:17<00:07,  2.01it/s]\u001b[A\n",
      "DDIM Sampler:  72%|███████▏  | 36/50 [00:17<00:06,  2.01it/s]\u001b[A\n",
      "DDIM Sampler:  74%|███████▍  | 37/50 [00:18<00:06,  2.01it/s]\u001b[A\n",
      "DDIM Sampler:  76%|███████▌  | 38/50 [00:18<00:05,  2.01it/s]\u001b[A\n",
      "DDIM Sampler:  78%|███████▊  | 39/50 [00:19<00:05,  2.01it/s]\u001b[A\n",
      "DDIM Sampler:  80%|████████  | 40/50 [00:19<00:04,  2.01it/s]\u001b[A\n",
      "DDIM Sampler:  82%|████████▏ | 41/50 [00:20<00:04,  2.01it/s]\u001b[A\n",
      "DDIM Sampler:  84%|████████▍ | 42/50 [00:20<00:03,  2.01it/s]\u001b[A\n",
      "DDIM Sampler:  86%|████████▌ | 43/50 [00:21<00:03,  2.01it/s]\u001b[A\n",
      "DDIM Sampler:  88%|████████▊ | 44/50 [00:21<00:02,  2.01it/s]\u001b[A\n",
      "DDIM Sampler:  90%|█████████ | 45/50 [00:22<00:02,  2.01it/s]\u001b[A\n",
      "DDIM Sampler:  92%|█████████▏| 46/50 [00:22<00:01,  2.00it/s]\u001b[A\n",
      "DDIM Sampler:  94%|█████████▍| 47/50 [00:23<00:01,  2.01it/s]\u001b[A\n",
      "DDIM Sampler:  96%|█████████▌| 48/50 [00:23<00:00,  2.00it/s]\u001b[A\n",
      "DDIM Sampler:  98%|█████████▊| 49/50 [00:24<00:00,  2.01it/s]\u001b[A\n",
      "DDIM Sampler: 100%|██████████| 50/50 [00:24<00:00,  2.01it/s]\u001b[A\n"
     ]
    },
    {
     "name": "stdout",
     "output_type": "stream",
     "text": [
      "Data shape for DDIM sampling is (4, 4, 64, 64), eta 0.0\n",
      "Running DDIM Sampling with 50 timesteps\n"
     ]
    },
    {
     "name": "stderr",
     "output_type": "stream",
     "text": [
      "\n",
      "DDIM Sampler:   0%|          | 0/50 [00:00<?, ?it/s]\u001b[A\n",
      "DDIM Sampler:   2%|▏         | 1/50 [00:00<00:24,  2.03it/s]\u001b[A\n",
      "DDIM Sampler:   4%|▍         | 2/50 [00:00<00:23,  2.02it/s]\u001b[A\n",
      "DDIM Sampler:   6%|▌         | 3/50 [00:01<00:23,  2.02it/s]\u001b[A\n",
      "DDIM Sampler:   8%|▊         | 4/50 [00:01<00:22,  2.02it/s]\u001b[A\n",
      "DDIM Sampler:  10%|█         | 5/50 [00:02<00:22,  2.02it/s]\u001b[A\n",
      "DDIM Sampler:  12%|█▏        | 6/50 [00:02<00:21,  2.02it/s]\u001b[A\n",
      "DDIM Sampler:  14%|█▍        | 7/50 [00:03<00:21,  2.02it/s]\u001b[A\n",
      "DDIM Sampler:  16%|█▌        | 8/50 [00:03<00:20,  2.02it/s]\u001b[A\n",
      "DDIM Sampler:  18%|█▊        | 9/50 [00:04<00:20,  2.02it/s]\u001b[A\n",
      "DDIM Sampler:  20%|██        | 10/50 [00:04<00:19,  2.02it/s]\u001b[A\n",
      "DDIM Sampler:  22%|██▏       | 11/50 [00:05<00:19,  2.02it/s]\u001b[A\n",
      "DDIM Sampler:  24%|██▍       | 12/50 [00:05<00:18,  2.02it/s]\u001b[A\n",
      "DDIM Sampler:  26%|██▌       | 13/50 [00:06<00:18,  2.02it/s]\u001b[A\n",
      "DDIM Sampler:  28%|██▊       | 14/50 [00:06<00:17,  2.02it/s]\u001b[A\n",
      "DDIM Sampler:  30%|███       | 15/50 [00:07<00:17,  2.02it/s]\u001b[A\n",
      "DDIM Sampler:  32%|███▏      | 16/50 [00:07<00:16,  2.02it/s]\u001b[A\n",
      "DDIM Sampler:  34%|███▍      | 17/50 [00:08<00:16,  2.02it/s]\u001b[A\n",
      "DDIM Sampler:  36%|███▌      | 18/50 [00:08<00:15,  2.02it/s]\u001b[A\n",
      "DDIM Sampler:  38%|███▊      | 19/50 [00:09<00:15,  2.02it/s]\u001b[A\n",
      "DDIM Sampler:  40%|████      | 20/50 [00:09<00:14,  2.01it/s]\u001b[A\n",
      "DDIM Sampler:  42%|████▏     | 21/50 [00:10<00:14,  2.02it/s]\u001b[A\n",
      "DDIM Sampler:  44%|████▍     | 22/50 [00:10<00:13,  2.01it/s]\u001b[A\n",
      "DDIM Sampler:  46%|████▌     | 23/50 [00:11<00:13,  2.02it/s]\u001b[A\n",
      "DDIM Sampler:  48%|████▊     | 24/50 [00:11<00:12,  2.02it/s]\u001b[A\n",
      "DDIM Sampler:  50%|█████     | 25/50 [00:12<00:12,  2.01it/s]\u001b[A\n",
      "DDIM Sampler:  52%|█████▏    | 26/50 [00:12<00:11,  2.01it/s]\u001b[A\n",
      "DDIM Sampler:  54%|█████▍    | 27/50 [00:13<00:11,  2.02it/s]\u001b[A\n",
      "DDIM Sampler:  56%|█████▌    | 28/50 [00:13<00:10,  2.02it/s]\u001b[A\n",
      "DDIM Sampler:  58%|█████▊    | 29/50 [00:14<00:10,  2.02it/s]\u001b[A\n",
      "DDIM Sampler:  60%|██████    | 30/50 [00:14<00:09,  2.02it/s]\u001b[A\n",
      "DDIM Sampler:  62%|██████▏   | 31/50 [00:15<00:09,  2.02it/s]\u001b[A\n",
      "DDIM Sampler:  64%|██████▍   | 32/50 [00:15<00:08,  2.02it/s]\u001b[A\n",
      "DDIM Sampler:  66%|██████▌   | 33/50 [00:16<00:08,  2.02it/s]\u001b[A\n",
      "DDIM Sampler:  68%|██████▊   | 34/50 [00:16<00:07,  2.02it/s]\u001b[A\n",
      "DDIM Sampler:  70%|███████   | 35/50 [00:17<00:07,  2.02it/s]\u001b[A\n",
      "DDIM Sampler:  72%|███████▏  | 36/50 [00:17<00:06,  2.02it/s]\u001b[A\n",
      "DDIM Sampler:  74%|███████▍  | 37/50 [00:18<00:06,  2.02it/s]\u001b[A\n",
      "DDIM Sampler:  76%|███████▌  | 38/50 [00:18<00:05,  2.02it/s]\u001b[A\n",
      "DDIM Sampler:  78%|███████▊  | 39/50 [00:19<00:05,  2.02it/s]\u001b[A\n",
      "DDIM Sampler:  80%|████████  | 40/50 [00:19<00:04,  2.02it/s]\u001b[A\n",
      "DDIM Sampler:  82%|████████▏ | 41/50 [00:20<00:04,  2.02it/s]\u001b[A\n",
      "DDIM Sampler:  84%|████████▍ | 42/50 [00:20<00:03,  2.02it/s]\u001b[A\n",
      "DDIM Sampler:  86%|████████▌ | 43/50 [00:21<00:03,  2.01it/s]\u001b[A\n",
      "DDIM Sampler:  88%|████████▊ | 44/50 [00:21<00:02,  2.01it/s]\u001b[A\n",
      "DDIM Sampler:  90%|█████████ | 45/50 [00:22<00:02,  2.02it/s]\u001b[A\n",
      "DDIM Sampler:  92%|█████████▏| 46/50 [00:22<00:01,  2.01it/s]\u001b[A\n",
      "DDIM Sampler:  94%|█████████▍| 47/50 [00:23<00:01,  2.01it/s]\u001b[A\n",
      "DDIM Sampler:  96%|█████████▌| 48/50 [00:23<00:00,  2.01it/s]\u001b[A\n",
      "DDIM Sampler:  98%|█████████▊| 49/50 [00:24<00:00,  2.01it/s]\u001b[A\n",
      "DDIM Sampler: 100%|██████████| 50/50 [00:24<00:00,  2.02it/s]\u001b[A\n"
     ]
    },
    {
     "name": "stdout",
     "output_type": "stream",
     "text": [
      "Data shape for DDIM sampling is (4, 4, 64, 64), eta 0.0\n",
      "Running DDIM Sampling with 50 timesteps\n"
     ]
    },
    {
     "name": "stderr",
     "output_type": "stream",
     "text": [
      "\n",
      "DDIM Sampler:   0%|          | 0/50 [00:00<?, ?it/s]\u001b[A\n",
      "DDIM Sampler:   2%|▏         | 1/50 [00:00<00:24,  2.03it/s]\u001b[A\n",
      "DDIM Sampler:   4%|▍         | 2/50 [00:00<00:23,  2.02it/s]\u001b[A\n",
      "DDIM Sampler:   6%|▌         | 3/50 [00:01<00:23,  2.02it/s]\u001b[A\n",
      "DDIM Sampler:   8%|▊         | 4/50 [00:01<00:22,  2.02it/s]\u001b[A\n",
      "DDIM Sampler:  10%|█         | 5/50 [00:02<00:22,  2.02it/s]\u001b[A\n",
      "DDIM Sampler:  12%|█▏        | 6/50 [00:02<00:21,  2.02it/s]\u001b[A\n",
      "DDIM Sampler:  14%|█▍        | 7/50 [00:03<00:21,  2.01it/s]\u001b[A\n",
      "DDIM Sampler:  16%|█▌        | 8/50 [00:03<00:20,  2.01it/s]\u001b[A\n",
      "DDIM Sampler:  18%|█▊        | 9/50 [00:04<00:20,  2.01it/s]\u001b[A\n",
      "DDIM Sampler:  20%|██        | 10/50 [00:04<00:19,  2.01it/s]\u001b[A\n",
      "DDIM Sampler:  22%|██▏       | 11/50 [00:05<00:19,  2.02it/s]\u001b[A\n",
      "DDIM Sampler:  24%|██▍       | 12/50 [00:05<00:18,  2.02it/s]\u001b[A\n",
      "DDIM Sampler:  26%|██▌       | 13/50 [00:06<00:18,  2.01it/s]\u001b[A\n",
      "DDIM Sampler:  28%|██▊       | 14/50 [00:06<00:17,  2.01it/s]\u001b[A\n",
      "DDIM Sampler:  30%|███       | 15/50 [00:07<00:17,  2.01it/s]\u001b[A\n",
      "DDIM Sampler:  32%|███▏      | 16/50 [00:07<00:16,  2.01it/s]\u001b[A\n",
      "DDIM Sampler:  34%|███▍      | 17/50 [00:08<00:16,  2.01it/s]\u001b[A\n",
      "DDIM Sampler:  36%|███▌      | 18/50 [00:08<00:15,  2.01it/s]\u001b[A\n",
      "DDIM Sampler:  38%|███▊      | 19/50 [00:09<00:15,  2.01it/s]\u001b[A\n",
      "DDIM Sampler:  40%|████      | 20/50 [00:09<00:14,  2.01it/s]\u001b[A\n",
      "DDIM Sampler:  42%|████▏     | 21/50 [00:10<00:14,  2.01it/s]\u001b[A\n",
      "DDIM Sampler:  44%|████▍     | 22/50 [00:10<00:13,  2.01it/s]\u001b[A\n",
      "DDIM Sampler:  46%|████▌     | 23/50 [00:11<00:13,  2.01it/s]\u001b[A\n",
      "DDIM Sampler:  48%|████▊     | 24/50 [00:11<00:12,  2.01it/s]\u001b[A\n",
      "DDIM Sampler:  50%|█████     | 25/50 [00:12<00:12,  2.01it/s]\u001b[A\n",
      "DDIM Sampler:  52%|█████▏    | 26/50 [00:12<00:11,  2.01it/s]\u001b[A\n",
      "DDIM Sampler:  54%|█████▍    | 27/50 [00:13<00:11,  2.01it/s]\u001b[A\n",
      "DDIM Sampler:  56%|█████▌    | 28/50 [00:13<00:10,  2.01it/s]\u001b[A\n",
      "DDIM Sampler:  58%|█████▊    | 29/50 [00:14<00:10,  2.01it/s]\u001b[A\n",
      "DDIM Sampler:  60%|██████    | 30/50 [00:14<00:09,  2.01it/s]\u001b[A\n",
      "DDIM Sampler:  62%|██████▏   | 31/50 [00:15<00:09,  2.01it/s]\u001b[A\n",
      "DDIM Sampler:  64%|██████▍   | 32/50 [00:15<00:08,  2.01it/s]\u001b[A\n",
      "DDIM Sampler:  66%|██████▌   | 33/50 [00:16<00:08,  2.01it/s]\u001b[A\n",
      "DDIM Sampler:  68%|██████▊   | 34/50 [00:16<00:07,  2.01it/s]\u001b[A\n",
      "DDIM Sampler:  70%|███████   | 35/50 [00:17<00:07,  2.01it/s]\u001b[A\n",
      "DDIM Sampler:  72%|███████▏  | 36/50 [00:17<00:06,  2.01it/s]\u001b[A\n",
      "DDIM Sampler:  74%|███████▍  | 37/50 [00:18<00:06,  2.01it/s]\u001b[A\n",
      "DDIM Sampler:  76%|███████▌  | 38/50 [00:18<00:05,  2.01it/s]\u001b[A\n",
      "DDIM Sampler:  78%|███████▊  | 39/50 [00:19<00:05,  2.01it/s]\u001b[A\n",
      "DDIM Sampler:  80%|████████  | 40/50 [00:19<00:04,  2.01it/s]\u001b[A\n",
      "DDIM Sampler:  82%|████████▏ | 41/50 [00:20<00:04,  2.01it/s]\u001b[A\n",
      "DDIM Sampler:  84%|████████▍ | 42/50 [00:20<00:03,  2.01it/s]\u001b[A\n",
      "DDIM Sampler:  86%|████████▌ | 43/50 [00:21<00:03,  2.01it/s]\u001b[A\n",
      "DDIM Sampler:  88%|████████▊ | 44/50 [00:21<00:02,  2.01it/s]\u001b[A\n",
      "DDIM Sampler:  90%|█████████ | 45/50 [00:22<00:02,  2.01it/s]\u001b[A\n",
      "DDIM Sampler:  92%|█████████▏| 46/50 [00:22<00:01,  2.01it/s]\u001b[A\n",
      "DDIM Sampler:  94%|█████████▍| 47/50 [00:23<00:01,  2.01it/s]\u001b[A\n",
      "DDIM Sampler:  96%|█████████▌| 48/50 [00:23<00:00,  2.00it/s]\u001b[A\n",
      "DDIM Sampler:  98%|█████████▊| 49/50 [00:24<00:00,  2.01it/s]\u001b[A\n",
      "DDIM Sampler: 100%|██████████| 50/50 [00:24<00:00,  2.01it/s]\u001b[A\n"
     ]
    },
    {
     "name": "stdout",
     "output_type": "stream",
     "text": [
      "Data shape for DDIM sampling is (4, 4, 64, 64), eta 0.0\n",
      "Running DDIM Sampling with 50 timesteps\n"
     ]
    },
    {
     "name": "stderr",
     "output_type": "stream",
     "text": [
      "\n",
      "DDIM Sampler:   0%|          | 0/50 [00:00<?, ?it/s]\u001b[A\n",
      "DDIM Sampler:   2%|▏         | 1/50 [00:00<00:24,  2.03it/s]\u001b[A\n",
      "DDIM Sampler:   4%|▍         | 2/50 [00:00<00:23,  2.02it/s]\u001b[A\n",
      "DDIM Sampler:   6%|▌         | 3/50 [00:01<00:23,  2.01it/s]\u001b[A\n",
      "DDIM Sampler:   8%|▊         | 4/50 [00:01<00:22,  2.01it/s]\u001b[A\n",
      "DDIM Sampler:  10%|█         | 5/50 [00:02<00:22,  2.01it/s]\u001b[A\n",
      "DDIM Sampler:  12%|█▏        | 6/50 [00:02<00:21,  2.01it/s]\u001b[A\n",
      "DDIM Sampler:  14%|█▍        | 7/50 [00:03<00:21,  2.02it/s]\u001b[A\n",
      "DDIM Sampler:  16%|█▌        | 8/50 [00:03<00:20,  2.02it/s]\u001b[A\n",
      "DDIM Sampler:  18%|█▊        | 9/50 [00:04<00:20,  2.01it/s]\u001b[A\n",
      "DDIM Sampler:  20%|██        | 10/50 [00:04<00:19,  2.01it/s]\u001b[A\n",
      "DDIM Sampler:  22%|██▏       | 11/50 [00:05<00:19,  2.01it/s]\u001b[A\n",
      "DDIM Sampler:  24%|██▍       | 12/50 [00:05<00:18,  2.01it/s]\u001b[A\n",
      "DDIM Sampler:  26%|██▌       | 13/50 [00:06<00:18,  2.01it/s]\u001b[A\n",
      "DDIM Sampler:  28%|██▊       | 14/50 [00:06<00:17,  2.01it/s]\u001b[A\n",
      "DDIM Sampler:  30%|███       | 15/50 [00:07<00:17,  2.01it/s]\u001b[A\n",
      "DDIM Sampler:  32%|███▏      | 16/50 [00:07<00:16,  2.01it/s]\u001b[A\n",
      "DDIM Sampler:  34%|███▍      | 17/50 [00:08<00:16,  2.01it/s]\u001b[A\n",
      "DDIM Sampler:  36%|███▌      | 18/50 [00:08<00:15,  2.01it/s]\u001b[A\n",
      "DDIM Sampler:  38%|███▊      | 19/50 [00:09<00:15,  2.01it/s]\u001b[A\n",
      "DDIM Sampler:  40%|████      | 20/50 [00:09<00:14,  2.01it/s]\u001b[A\n",
      "DDIM Sampler:  42%|████▏     | 21/50 [00:10<00:14,  2.01it/s]\u001b[A\n",
      "DDIM Sampler:  44%|████▍     | 22/50 [00:10<00:13,  2.01it/s]\u001b[A\n",
      "DDIM Sampler:  46%|████▌     | 23/50 [00:11<00:13,  2.01it/s]\u001b[A\n",
      "DDIM Sampler:  48%|████▊     | 24/50 [00:11<00:12,  2.01it/s]\u001b[A\n",
      "DDIM Sampler:  50%|█████     | 25/50 [00:12<00:12,  2.01it/s]\u001b[A\n",
      "DDIM Sampler:  52%|█████▏    | 26/50 [00:12<00:11,  2.01it/s]\u001b[A\n",
      "DDIM Sampler:  54%|█████▍    | 27/50 [00:13<00:11,  2.01it/s]\u001b[A\n",
      "DDIM Sampler:  56%|█████▌    | 28/50 [00:13<00:10,  2.01it/s]\u001b[A\n",
      "DDIM Sampler:  58%|█████▊    | 29/50 [00:14<00:10,  2.01it/s]\u001b[A\n",
      "DDIM Sampler:  60%|██████    | 30/50 [00:14<00:09,  2.01it/s]\u001b[A\n",
      "DDIM Sampler:  62%|██████▏   | 31/50 [00:15<00:09,  2.02it/s]\u001b[A\n",
      "DDIM Sampler:  64%|██████▍   | 32/50 [00:15<00:08,  2.02it/s]\u001b[A\n",
      "DDIM Sampler:  66%|██████▌   | 33/50 [00:16<00:08,  2.02it/s]\u001b[A\n",
      "DDIM Sampler:  68%|██████▊   | 34/50 [00:16<00:07,  2.02it/s]\u001b[A\n",
      "DDIM Sampler:  70%|███████   | 35/50 [00:17<00:07,  2.01it/s]\u001b[A\n",
      "DDIM Sampler:  72%|███████▏  | 36/50 [00:17<00:06,  2.02it/s]\u001b[A\n",
      "DDIM Sampler:  74%|███████▍  | 37/50 [00:18<00:06,  2.02it/s]\u001b[A\n",
      "DDIM Sampler:  76%|███████▌  | 38/50 [00:18<00:05,  2.01it/s]\u001b[A\n",
      "DDIM Sampler:  78%|███████▊  | 39/50 [00:19<00:05,  2.01it/s]\u001b[A\n",
      "DDIM Sampler:  80%|████████  | 40/50 [00:19<00:04,  2.01it/s]\u001b[A\n",
      "DDIM Sampler:  82%|████████▏ | 41/50 [00:20<00:04,  2.01it/s]\u001b[A\n",
      "DDIM Sampler:  84%|████████▍ | 42/50 [00:20<00:03,  2.01it/s]\u001b[A\n",
      "DDIM Sampler:  86%|████████▌ | 43/50 [00:21<00:03,  2.01it/s]\u001b[A\n",
      "DDIM Sampler:  88%|████████▊ | 44/50 [00:21<00:02,  2.02it/s]\u001b[A\n",
      "DDIM Sampler:  90%|█████████ | 45/50 [00:22<00:02,  2.02it/s]\u001b[A\n",
      "DDIM Sampler:  92%|█████████▏| 46/50 [00:22<00:01,  2.02it/s]\u001b[A\n",
      "DDIM Sampler:  94%|█████████▍| 47/50 [00:23<00:01,  2.02it/s]\u001b[A\n",
      "DDIM Sampler:  96%|█████████▌| 48/50 [00:23<00:00,  2.02it/s]\u001b[A\n",
      "DDIM Sampler:  98%|█████████▊| 49/50 [00:24<00:00,  2.01it/s]\u001b[A\n",
      "DDIM Sampler: 100%|██████████| 50/50 [00:24<00:00,  2.01it/s]\u001b[A\n"
     ]
    },
    {
     "name": "stdout",
     "output_type": "stream",
     "text": [
      "Data shape for DDIM sampling is (4, 4, 64, 64), eta 0.0\n",
      "Running DDIM Sampling with 50 timesteps\n"
     ]
    },
    {
     "name": "stderr",
     "output_type": "stream",
     "text": [
      "\n",
      "DDIM Sampler:   0%|          | 0/50 [00:00<?, ?it/s]\u001b[A\n",
      "DDIM Sampler:   2%|▏         | 1/50 [00:00<00:24,  2.03it/s]\u001b[A\n",
      "DDIM Sampler:   4%|▍         | 2/50 [00:00<00:23,  2.02it/s]\u001b[A\n",
      "DDIM Sampler:   6%|▌         | 3/50 [00:01<00:23,  2.01it/s]\u001b[A\n",
      "DDIM Sampler:   8%|▊         | 4/50 [00:01<00:22,  2.01it/s]\u001b[A\n",
      "DDIM Sampler:  10%|█         | 5/50 [00:02<00:22,  2.01it/s]\u001b[A\n",
      "DDIM Sampler:  12%|█▏        | 6/50 [00:02<00:21,  2.01it/s]\u001b[A\n",
      "DDIM Sampler:  14%|█▍        | 7/50 [00:03<00:21,  2.02it/s]\u001b[A\n",
      "DDIM Sampler:  16%|█▌        | 8/50 [00:03<00:20,  2.02it/s]\u001b[A\n",
      "DDIM Sampler:  18%|█▊        | 9/50 [00:04<00:20,  2.02it/s]\u001b[A\n",
      "DDIM Sampler:  20%|██        | 10/50 [00:04<00:19,  2.02it/s]\u001b[A\n",
      "DDIM Sampler:  22%|██▏       | 11/50 [00:05<00:19,  2.02it/s]\u001b[A\n",
      "DDIM Sampler:  24%|██▍       | 12/50 [00:05<00:18,  2.02it/s]\u001b[A\n",
      "DDIM Sampler:  26%|██▌       | 13/50 [00:06<00:18,  2.02it/s]\u001b[A\n",
      "DDIM Sampler:  28%|██▊       | 14/50 [00:06<00:17,  2.02it/s]\u001b[A\n",
      "DDIM Sampler:  30%|███       | 15/50 [00:07<00:17,  2.02it/s]\u001b[A\n",
      "DDIM Sampler:  32%|███▏      | 16/50 [00:07<00:16,  2.02it/s]\u001b[A\n",
      "DDIM Sampler:  34%|███▍      | 17/50 [00:08<00:16,  2.02it/s]\u001b[A\n",
      "DDIM Sampler:  36%|███▌      | 18/50 [00:08<00:15,  2.02it/s]\u001b[A\n",
      "DDIM Sampler:  38%|███▊      | 19/50 [00:09<00:15,  2.02it/s]\u001b[A\n",
      "DDIM Sampler:  40%|████      | 20/50 [00:09<00:14,  2.02it/s]\u001b[A\n",
      "DDIM Sampler:  42%|████▏     | 21/50 [00:10<00:14,  2.02it/s]\u001b[A\n",
      "DDIM Sampler:  44%|████▍     | 22/50 [00:10<00:13,  2.02it/s]\u001b[A\n",
      "DDIM Sampler:  46%|████▌     | 23/50 [00:11<00:13,  2.01it/s]\u001b[A\n",
      "DDIM Sampler:  48%|████▊     | 24/50 [00:11<00:12,  2.02it/s]\u001b[A\n",
      "DDIM Sampler:  50%|█████     | 25/50 [00:12<00:12,  2.01it/s]\u001b[A\n",
      "DDIM Sampler:  52%|█████▏    | 26/50 [00:12<00:11,  2.01it/s]\u001b[A\n",
      "DDIM Sampler:  54%|█████▍    | 27/50 [00:13<00:11,  2.01it/s]\u001b[A\n",
      "DDIM Sampler:  56%|█████▌    | 28/50 [00:13<00:10,  2.01it/s]\u001b[A\n",
      "DDIM Sampler:  58%|█████▊    | 29/50 [00:14<00:10,  2.02it/s]\u001b[A\n",
      "DDIM Sampler:  60%|██████    | 30/50 [00:14<00:09,  2.02it/s]\u001b[A\n",
      "DDIM Sampler:  62%|██████▏   | 31/50 [00:15<00:09,  2.01it/s]\u001b[A\n",
      "DDIM Sampler:  64%|██████▍   | 32/50 [00:15<00:08,  2.01it/s]\u001b[A\n",
      "DDIM Sampler:  66%|██████▌   | 33/50 [00:16<00:08,  2.01it/s]\u001b[A\n",
      "DDIM Sampler:  68%|██████▊   | 34/50 [00:16<00:07,  2.01it/s]\u001b[A\n",
      "DDIM Sampler:  70%|███████   | 35/50 [00:17<00:07,  2.01it/s]\u001b[A\n",
      "DDIM Sampler:  72%|███████▏  | 36/50 [00:17<00:06,  2.01it/s]\u001b[A\n",
      "DDIM Sampler:  74%|███████▍  | 37/50 [00:18<00:06,  2.01it/s]\u001b[A\n",
      "DDIM Sampler:  76%|███████▌  | 38/50 [00:18<00:05,  2.02it/s]\u001b[A\n",
      "DDIM Sampler:  78%|███████▊  | 39/50 [00:19<00:05,  2.01it/s]\u001b[A\n",
      "DDIM Sampler:  80%|████████  | 40/50 [00:19<00:04,  2.02it/s]\u001b[A\n",
      "DDIM Sampler:  82%|████████▏ | 41/50 [00:20<00:04,  2.02it/s]\u001b[A\n",
      "DDIM Sampler:  84%|████████▍ | 42/50 [00:20<00:03,  2.02it/s]\u001b[A\n",
      "DDIM Sampler:  86%|████████▌ | 43/50 [00:21<00:03,  2.02it/s]\u001b[A\n",
      "DDIM Sampler:  88%|████████▊ | 44/50 [00:21<00:02,  2.02it/s]\u001b[A\n",
      "DDIM Sampler:  90%|█████████ | 45/50 [00:22<00:02,  2.02it/s]\u001b[A\n",
      "DDIM Sampler:  92%|█████████▏| 46/50 [00:22<00:01,  2.02it/s]\u001b[A\n",
      "DDIM Sampler:  94%|█████████▍| 47/50 [00:23<00:01,  2.02it/s]\u001b[A\n",
      "DDIM Sampler:  96%|█████████▌| 48/50 [00:23<00:00,  2.02it/s]\u001b[A\n",
      "DDIM Sampler:  98%|█████████▊| 49/50 [00:24<00:00,  2.02it/s]\u001b[A\n",
      "DDIM Sampler: 100%|██████████| 50/50 [00:24<00:00,  2.02it/s]\u001b[A\n"
     ]
    },
    {
     "name": "stdout",
     "output_type": "stream",
     "text": [
      "Data shape for DDIM sampling is (4, 4, 64, 64), eta 0.0\n",
      "Running DDIM Sampling with 50 timesteps\n"
     ]
    },
    {
     "name": "stderr",
     "output_type": "stream",
     "text": [
      "\n",
      "DDIM Sampler:   0%|          | 0/50 [00:00<?, ?it/s]\u001b[A\n",
      "DDIM Sampler:   2%|▏         | 1/50 [00:00<00:24,  2.03it/s]\u001b[A\n",
      "DDIM Sampler:   4%|▍         | 2/50 [00:00<00:23,  2.02it/s]\u001b[A\n",
      "DDIM Sampler:   6%|▌         | 3/50 [00:01<00:23,  2.02it/s]\u001b[A\n",
      "DDIM Sampler:   8%|▊         | 4/50 [00:01<00:22,  2.01it/s]\u001b[A\n",
      "DDIM Sampler:  10%|█         | 5/50 [00:02<00:22,  2.01it/s]\u001b[A\n",
      "DDIM Sampler:  12%|█▏        | 6/50 [00:02<00:21,  2.01it/s]\u001b[A\n",
      "DDIM Sampler:  14%|█▍        | 7/50 [00:03<00:21,  2.01it/s]\u001b[A\n",
      "DDIM Sampler:  16%|█▌        | 8/50 [00:03<00:20,  2.01it/s]\u001b[A\n",
      "DDIM Sampler:  18%|█▊        | 9/50 [00:04<00:20,  2.01it/s]\u001b[A\n",
      "DDIM Sampler:  20%|██        | 10/50 [00:04<00:19,  2.01it/s]\u001b[A\n",
      "DDIM Sampler:  22%|██▏       | 11/50 [00:05<00:19,  2.02it/s]\u001b[A\n",
      "DDIM Sampler:  24%|██▍       | 12/50 [00:05<00:18,  2.02it/s]\u001b[A\n",
      "DDIM Sampler:  26%|██▌       | 13/50 [00:06<00:18,  2.01it/s]\u001b[A\n",
      "DDIM Sampler:  28%|██▊       | 14/50 [00:06<00:17,  2.02it/s]\u001b[A\n",
      "DDIM Sampler:  30%|███       | 15/50 [00:07<00:17,  2.01it/s]\u001b[A\n",
      "DDIM Sampler:  32%|███▏      | 16/50 [00:07<00:16,  2.02it/s]\u001b[A\n",
      "DDIM Sampler:  34%|███▍      | 17/50 [00:08<00:16,  2.01it/s]\u001b[A\n",
      "DDIM Sampler:  36%|███▌      | 18/50 [00:08<00:15,  2.01it/s]\u001b[A\n",
      "DDIM Sampler:  38%|███▊      | 19/50 [00:09<00:15,  2.01it/s]\u001b[A\n",
      "DDIM Sampler:  40%|████      | 20/50 [00:09<00:14,  2.01it/s]\u001b[A\n",
      "DDIM Sampler:  42%|████▏     | 21/50 [00:10<00:14,  2.01it/s]\u001b[A\n",
      "DDIM Sampler:  44%|████▍     | 22/50 [00:10<00:13,  2.01it/s]\u001b[A\n",
      "DDIM Sampler:  46%|████▌     | 23/50 [00:11<00:13,  2.01it/s]\u001b[A\n",
      "DDIM Sampler:  48%|████▊     | 24/50 [00:11<00:12,  2.01it/s]\u001b[A\n",
      "DDIM Sampler:  50%|█████     | 25/50 [00:12<00:12,  2.01it/s]\u001b[A\n",
      "DDIM Sampler:  52%|█████▏    | 26/50 [00:12<00:11,  2.01it/s]\u001b[A\n",
      "DDIM Sampler:  54%|█████▍    | 27/50 [00:13<00:11,  2.01it/s]\u001b[A\n",
      "DDIM Sampler:  56%|█████▌    | 28/50 [00:13<00:10,  2.01it/s]\u001b[A\n",
      "DDIM Sampler:  58%|█████▊    | 29/50 [00:14<00:10,  2.01it/s]\u001b[A\n",
      "DDIM Sampler:  60%|██████    | 30/50 [00:14<00:09,  2.01it/s]\u001b[A\n",
      "DDIM Sampler:  62%|██████▏   | 31/50 [00:15<00:09,  2.01it/s]\u001b[A\n",
      "DDIM Sampler:  64%|██████▍   | 32/50 [00:15<00:08,  2.01it/s]\u001b[A\n",
      "DDIM Sampler:  66%|██████▌   | 33/50 [00:16<00:08,  2.01it/s]\u001b[A\n",
      "DDIM Sampler:  68%|██████▊   | 34/50 [00:16<00:07,  2.02it/s]\u001b[A\n",
      "DDIM Sampler:  70%|███████   | 35/50 [00:17<00:07,  2.02it/s]\u001b[A\n",
      "DDIM Sampler:  72%|███████▏  | 36/50 [00:17<00:06,  2.02it/s]\u001b[A\n",
      "DDIM Sampler:  74%|███████▍  | 37/50 [00:18<00:06,  2.02it/s]\u001b[A\n",
      "DDIM Sampler:  76%|███████▌  | 38/50 [00:18<00:05,  2.02it/s]\u001b[A\n",
      "DDIM Sampler:  78%|███████▊  | 39/50 [00:19<00:05,  2.01it/s]\u001b[A\n",
      "DDIM Sampler:  80%|████████  | 40/50 [00:19<00:04,  2.02it/s]\u001b[A\n",
      "DDIM Sampler:  82%|████████▏ | 41/50 [00:20<00:04,  2.02it/s]\u001b[A\n",
      "DDIM Sampler:  84%|████████▍ | 42/50 [00:20<00:03,  2.01it/s]\u001b[A\n",
      "DDIM Sampler:  86%|████████▌ | 43/50 [00:21<00:03,  2.02it/s]\u001b[A\n",
      "DDIM Sampler:  88%|████████▊ | 44/50 [00:21<00:02,  2.01it/s]\u001b[A\n",
      "DDIM Sampler:  90%|█████████ | 45/50 [00:22<00:02,  2.02it/s]\u001b[A\n",
      "DDIM Sampler:  92%|█████████▏| 46/50 [00:22<00:01,  2.02it/s]\u001b[A\n",
      "DDIM Sampler:  94%|█████████▍| 47/50 [00:23<00:01,  2.02it/s]\u001b[A\n",
      "DDIM Sampler:  96%|█████████▌| 48/50 [00:23<00:00,  2.02it/s]\u001b[A\n",
      "DDIM Sampler:  98%|█████████▊| 49/50 [00:24<00:00,  2.01it/s]\u001b[A\n",
      "DDIM Sampler: 100%|██████████| 50/50 [00:24<00:00,  2.01it/s]\u001b[A\n",
      "`Trainer.fit` stopped: `max_epochs=1` reached.\n"
     ]
    }
   ],
   "source": [
    "trainer.fit(model, dataloader)"
   ]
  },
  {
   "cell_type": "code",
   "execution_count": null,
   "id": "9d19a764-d626-4424-b5d3-b67f40960bed",
   "metadata": {},
   "outputs": [],
   "source": []
  }
 ],
 "metadata": {
  "kernelspec": {
   "display_name": "Python 3 (ipykernel)",
   "language": "python",
   "name": "python3"
  },
  "language_info": {
   "codemirror_mode": {
    "name": "ipython",
    "version": 3
   },
   "file_extension": ".py",
   "mimetype": "text/x-python",
   "name": "python",
   "nbconvert_exporter": "python",
   "pygments_lexer": "ipython3",
   "version": "3.10.13"
  }
 },
 "nbformat": 4,
 "nbformat_minor": 5
}
